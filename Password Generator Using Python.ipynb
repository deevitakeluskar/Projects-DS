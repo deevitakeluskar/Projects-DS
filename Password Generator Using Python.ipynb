{
 "cells": [
  {
   "cell_type": "code",
   "execution_count": 1,
   "id": "dbc75c33",
   "metadata": {},
   "outputs": [
    {
     "name": "stdout",
     "output_type": "stream",
     "text": [
      "Random Password Generator\n",
      "Password Length: 18\n",
      "Use Uppercase Letters? (Y/N): Y\n",
      "Use Lowercase Letters? (Y/N): Y\n",
      "Use Digits? (Y/N): Y\n",
      "Use Symbols? (Y/N): N\n",
      "\n",
      "Generated Password: QnfU7mjGCucIgHCXU0\n",
      "Save the password to a file? (Y/N): Y\n",
      "Enter the filename: dee\n",
      "Password saved to dee\n"
     ]
    }
   ],
   "source": [
    "import random\n",
    "import string\n",
    "\n",
    "class PasswordGenerator:\n",
    "    def __init__(self):\n",
    "        pass\n",
    "\n",
    "    def generate_password(self, length, use_uppercase, use_lowercase, use_digits, use_symbols):\n",
    "        # Ready-made character sets\n",
    "        uppercase_letters = string.ascii_uppercase\n",
    "        lowercase_letters = string.ascii_lowercase\n",
    "        digits = string.digits\n",
    "        symbols = string.punctuation\n",
    "\n",
    "        # Create the character set based on user choices\n",
    "        characters = \"\"\n",
    "        if use_uppercase:\n",
    "            characters += uppercase_letters\n",
    "        if use_lowercase:\n",
    "            characters += lowercase_letters\n",
    "        if use_digits:\n",
    "            characters += digits\n",
    "        if use_symbols:\n",
    "            characters += symbols\n",
    "\n",
    "        # Generate a random password of the specified length\n",
    "        if characters:\n",
    "            password = ''.join(random.choice(characters) for _ in range(length))\n",
    "            return password\n",
    "        else:\n",
    "            return \"Character set not selected.\"\n",
    "\n",
    "    def save_password_to_file(self, password, filename):\n",
    "        with open(filename, \"w\") as file:\n",
    "            file.write(password)\n",
    "\n",
    "    def main(self):\n",
    "        print(\"Random Password Generator\")\n",
    "\n",
    "        length = int(input(\"Password Length: \"))\n",
    "\n",
    "        use_uppercase = input(\"Use Uppercase Letters? (Y/N): \").lower() == \"y\"\n",
    "        use_lowercase = input(\"Use Lowercase Letters? (Y/N): \").lower() == \"y\"\n",
    "        use_digits = input(\"Use Digits? (Y/N): \").lower() == \"y\"\n",
    "        use_symbols = input(\"Use Symbols? (Y/N): \").lower() == \"y\"\n",
    "\n",
    "        password = self.generate_password(length, use_uppercase, use_lowercase, use_digits, use_symbols)\n",
    "\n",
    "        print(\"\\nGenerated Password:\", password)\n",
    "\n",
    "        save_to_file = input(\"Save the password to a file? (Y/N): \").lower() == \"y\"\n",
    "        if save_to_file:\n",
    "            filename = input(\"Enter the filename: \")\n",
    "            self.save_password_to_file(password, filename)\n",
    "            print(f\"Password saved to {filename}\")\n",
    "\n",
    "if __name__ == \"__main__\":\n",
    "    password_generator = PasswordGenerator()\n",
    "    password_generator.main()"
   ]
  },
  {
   "cell_type": "code",
   "execution_count": null,
   "id": "e96bc7a9",
   "metadata": {},
   "outputs": [],
   "source": []
  }
 ],
 "metadata": {
  "kernelspec": {
   "display_name": "Python 3 (ipykernel)",
   "language": "python",
   "name": "python3"
  },
  "language_info": {
   "codemirror_mode": {
    "name": "ipython",
    "version": 3
   },
   "file_extension": ".py",
   "mimetype": "text/x-python",
   "name": "python",
   "nbconvert_exporter": "python",
   "pygments_lexer": "ipython3",
   "version": "3.11.5"
  }
 },
 "nbformat": 4,
 "nbformat_minor": 5
}
