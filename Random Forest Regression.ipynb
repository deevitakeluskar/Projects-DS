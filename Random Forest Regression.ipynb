{
 "cells": [
  {
   "cell_type": "code",
   "execution_count": 24,
   "id": "f255d4e2",
   "metadata": {},
   "outputs": [],
   "source": [
    "import numpy as np"
   ]
  },
  {
   "cell_type": "code",
   "execution_count": 25,
   "id": "103aceda",
   "metadata": {},
   "outputs": [],
   "source": [
    "data = np.array([1, 2, 3, 4, 5])"
   ]
  },
  {
   "cell_type": "code",
   "execution_count": 26,
   "id": "e8299d46",
   "metadata": {},
   "outputs": [],
   "source": [
    "num_samples = 1000"
   ]
  },
  {
   "cell_type": "code",
   "execution_count": 27,
   "id": "2e91e752",
   "metadata": {},
   "outputs": [],
   "source": [
    "def calculate_statistic(data):\n",
    "    return np.mean(data)"
   ]
  },
  {
   "cell_type": "code",
   "execution_count": 28,
   "id": "dae348cb",
   "metadata": {},
   "outputs": [],
   "source": [
    "bootstrap_means = np.zeros(num_samples)"
   ]
  },
  {
   "cell_type": "code",
   "execution_count": 29,
   "id": "96a0dc33",
   "metadata": {},
   "outputs": [],
   "source": [
    "for i in range(num_samples):\n",
    "    bootstrap_sample = np.random.choice(data, size=4, replace=True)\n",
    "    bootstrap_means[i] = calculate_statistic(bootstrap_sample)"
   ]
  },
  {
   "cell_type": "code",
   "execution_count": 30,
   "id": "19a3c095",
   "metadata": {},
   "outputs": [],
   "source": [
    "bootstrap_mean = np.mean(bootstrap_means)\n",
    "bootstrap_std_error = np.std(bootstrap_means)"
   ]
  },
  {
   "cell_type": "code",
   "execution_count": 31,
   "id": "84ddf748",
   "metadata": {},
   "outputs": [
    {
     "name": "stdout",
     "output_type": "stream",
     "text": [
      "Bootstrap Mean: 3.00625\n",
      "Standard Error: 0.7238946314899704\n"
     ]
    }
   ],
   "source": [
    "print(f'Bootstrap Mean: {bootstrap_mean}')\n",
    "print(f'Standard Error: {bootstrap_std_error}')"
   ]
  },
  {
   "cell_type": "markdown",
   "id": "4c93b6ba",
   "metadata": {},
   "source": [
    "# Case Study of Bootstrapping"
   ]
  },
  {
   "cell_type": "code",
   "execution_count": 1,
   "id": "4e408c52",
   "metadata": {},
   "outputs": [],
   "source": [
    "from sklearn.ensemble import RandomForestRegressor\n",
    "import matplotlib.pyplot as plt\n",
    "import seaborn as sns\n",
    "from sklearn.model_selection import train_test_split\n",
    "from sklearn.feature_selection import SelectKBest\n",
    "from sklearn.feature_selection import chi2\n",
    "import numpy as np \n",
    "import pandas as pd"
   ]
  },
  {
   "cell_type": "code",
   "execution_count": 2,
   "id": "596507e2",
   "metadata": {},
   "outputs": [],
   "source": [
    "trainData = pd.read_csv('train.csv')"
   ]
  },
  {
   "cell_type": "code",
   "execution_count": 3,
   "id": "8d3e8579",
   "metadata": {},
   "outputs": [
    {
     "name": "stdout",
     "output_type": "stream",
     "text": [
      "<class 'pandas.core.frame.DataFrame'>\n",
      "RangeIndex: 137 entries, 0 to 136\n",
      "Data columns (total 43 columns):\n",
      " #   Column      Non-Null Count  Dtype  \n",
      "---  ------      --------------  -----  \n",
      " 0   Id          137 non-null    int64  \n",
      " 1   Open Date   137 non-null    object \n",
      " 2   City        137 non-null    object \n",
      " 3   City Group  137 non-null    object \n",
      " 4   Type        137 non-null    object \n",
      " 5   P1          137 non-null    int64  \n",
      " 6   P2          137 non-null    float64\n",
      " 7   P3          137 non-null    float64\n",
      " 8   P4          137 non-null    float64\n",
      " 9   P5          137 non-null    int64  \n",
      " 10  P6          137 non-null    int64  \n",
      " 11  P7          137 non-null    int64  \n",
      " 12  P8          137 non-null    int64  \n",
      " 13  P9          137 non-null    int64  \n",
      " 14  P10         137 non-null    int64  \n",
      " 15  P11         137 non-null    int64  \n",
      " 16  P12         137 non-null    int64  \n",
      " 17  P13         137 non-null    float64\n",
      " 18  P14         137 non-null    int64  \n",
      " 19  P15         137 non-null    int64  \n",
      " 20  P16         137 non-null    int64  \n",
      " 21  P17         137 non-null    int64  \n",
      " 22  P18         137 non-null    int64  \n",
      " 23  P19         137 non-null    int64  \n",
      " 24  P20         137 non-null    int64  \n",
      " 25  P21         137 non-null    int64  \n",
      " 26  P22         137 non-null    int64  \n",
      " 27  P23         137 non-null    int64  \n",
      " 28  P24         137 non-null    int64  \n",
      " 29  P25         137 non-null    int64  \n",
      " 30  P26         137 non-null    float64\n",
      " 31  P27         137 non-null    float64\n",
      " 32  P28         137 non-null    float64\n",
      " 33  P29         137 non-null    float64\n",
      " 34  P30         137 non-null    int64  \n",
      " 35  P31         137 non-null    int64  \n",
      " 36  P32         137 non-null    int64  \n",
      " 37  P33         137 non-null    int64  \n",
      " 38  P34         137 non-null    int64  \n",
      " 39  P35         137 non-null    int64  \n",
      " 40  P36         137 non-null    int64  \n",
      " 41  P37         137 non-null    int64  \n",
      " 42  revenue     137 non-null    float64\n",
      "dtypes: float64(9), int64(30), object(4)\n",
      "memory usage: 46.2+ KB\n"
     ]
    },
    {
     "data": {
      "text/html": [
       "<div>\n",
       "<style scoped>\n",
       "    .dataframe tbody tr th:only-of-type {\n",
       "        vertical-align: middle;\n",
       "    }\n",
       "\n",
       "    .dataframe tbody tr th {\n",
       "        vertical-align: top;\n",
       "    }\n",
       "\n",
       "    .dataframe thead th {\n",
       "        text-align: right;\n",
       "    }\n",
       "</style>\n",
       "<table border=\"1\" class=\"dataframe\">\n",
       "  <thead>\n",
       "    <tr style=\"text-align: right;\">\n",
       "      <th></th>\n",
       "      <th>Id</th>\n",
       "      <th>Open Date</th>\n",
       "      <th>City</th>\n",
       "      <th>City Group</th>\n",
       "      <th>Type</th>\n",
       "      <th>P1</th>\n",
       "      <th>P2</th>\n",
       "      <th>P3</th>\n",
       "      <th>P4</th>\n",
       "      <th>P5</th>\n",
       "      <th>...</th>\n",
       "      <th>P29</th>\n",
       "      <th>P30</th>\n",
       "      <th>P31</th>\n",
       "      <th>P32</th>\n",
       "      <th>P33</th>\n",
       "      <th>P34</th>\n",
       "      <th>P35</th>\n",
       "      <th>P36</th>\n",
       "      <th>P37</th>\n",
       "      <th>revenue</th>\n",
       "    </tr>\n",
       "  </thead>\n",
       "  <tbody>\n",
       "    <tr>\n",
       "      <th>0</th>\n",
       "      <td>0</td>\n",
       "      <td>07/17/1999</td>\n",
       "      <td>İstanbul</td>\n",
       "      <td>Big Cities</td>\n",
       "      <td>IL</td>\n",
       "      <td>4</td>\n",
       "      <td>5.0</td>\n",
       "      <td>4.0</td>\n",
       "      <td>4.0</td>\n",
       "      <td>2</td>\n",
       "      <td>...</td>\n",
       "      <td>3.0</td>\n",
       "      <td>5</td>\n",
       "      <td>3</td>\n",
       "      <td>4</td>\n",
       "      <td>5</td>\n",
       "      <td>5</td>\n",
       "      <td>4</td>\n",
       "      <td>3</td>\n",
       "      <td>4</td>\n",
       "      <td>5653753.0</td>\n",
       "    </tr>\n",
       "    <tr>\n",
       "      <th>1</th>\n",
       "      <td>1</td>\n",
       "      <td>02/14/2008</td>\n",
       "      <td>Ankara</td>\n",
       "      <td>Big Cities</td>\n",
       "      <td>FC</td>\n",
       "      <td>4</td>\n",
       "      <td>5.0</td>\n",
       "      <td>4.0</td>\n",
       "      <td>4.0</td>\n",
       "      <td>1</td>\n",
       "      <td>...</td>\n",
       "      <td>3.0</td>\n",
       "      <td>0</td>\n",
       "      <td>0</td>\n",
       "      <td>0</td>\n",
       "      <td>0</td>\n",
       "      <td>0</td>\n",
       "      <td>0</td>\n",
       "      <td>0</td>\n",
       "      <td>0</td>\n",
       "      <td>6923131.0</td>\n",
       "    </tr>\n",
       "    <tr>\n",
       "      <th>2</th>\n",
       "      <td>2</td>\n",
       "      <td>03/09/2013</td>\n",
       "      <td>Diyarbakır</td>\n",
       "      <td>Other</td>\n",
       "      <td>IL</td>\n",
       "      <td>2</td>\n",
       "      <td>4.0</td>\n",
       "      <td>2.0</td>\n",
       "      <td>5.0</td>\n",
       "      <td>2</td>\n",
       "      <td>...</td>\n",
       "      <td>3.0</td>\n",
       "      <td>0</td>\n",
       "      <td>0</td>\n",
       "      <td>0</td>\n",
       "      <td>0</td>\n",
       "      <td>0</td>\n",
       "      <td>0</td>\n",
       "      <td>0</td>\n",
       "      <td>0</td>\n",
       "      <td>2055379.0</td>\n",
       "    </tr>\n",
       "    <tr>\n",
       "      <th>3</th>\n",
       "      <td>3</td>\n",
       "      <td>02/02/2012</td>\n",
       "      <td>Tokat</td>\n",
       "      <td>Other</td>\n",
       "      <td>IL</td>\n",
       "      <td>6</td>\n",
       "      <td>4.5</td>\n",
       "      <td>6.0</td>\n",
       "      <td>6.0</td>\n",
       "      <td>4</td>\n",
       "      <td>...</td>\n",
       "      <td>7.5</td>\n",
       "      <td>25</td>\n",
       "      <td>12</td>\n",
       "      <td>10</td>\n",
       "      <td>6</td>\n",
       "      <td>18</td>\n",
       "      <td>12</td>\n",
       "      <td>12</td>\n",
       "      <td>6</td>\n",
       "      <td>2675511.0</td>\n",
       "    </tr>\n",
       "    <tr>\n",
       "      <th>4</th>\n",
       "      <td>4</td>\n",
       "      <td>05/09/2009</td>\n",
       "      <td>Gaziantep</td>\n",
       "      <td>Other</td>\n",
       "      <td>IL</td>\n",
       "      <td>3</td>\n",
       "      <td>4.0</td>\n",
       "      <td>3.0</td>\n",
       "      <td>4.0</td>\n",
       "      <td>2</td>\n",
       "      <td>...</td>\n",
       "      <td>3.0</td>\n",
       "      <td>5</td>\n",
       "      <td>1</td>\n",
       "      <td>3</td>\n",
       "      <td>2</td>\n",
       "      <td>3</td>\n",
       "      <td>4</td>\n",
       "      <td>3</td>\n",
       "      <td>3</td>\n",
       "      <td>4316715.0</td>\n",
       "    </tr>\n",
       "  </tbody>\n",
       "</table>\n",
       "<p>5 rows × 43 columns</p>\n",
       "</div>"
      ],
      "text/plain": [
       "   Id   Open Date        City  City Group Type  P1   P2   P3   P4  P5  ...  \\\n",
       "0   0  07/17/1999    İstanbul  Big Cities   IL   4  5.0  4.0  4.0   2  ...   \n",
       "1   1  02/14/2008      Ankara  Big Cities   FC   4  5.0  4.0  4.0   1  ...   \n",
       "2   2  03/09/2013  Diyarbakır       Other   IL   2  4.0  2.0  5.0   2  ...   \n",
       "3   3  02/02/2012       Tokat       Other   IL   6  4.5  6.0  6.0   4  ...   \n",
       "4   4  05/09/2009   Gaziantep       Other   IL   3  4.0  3.0  4.0   2  ...   \n",
       "\n",
       "   P29  P30  P31  P32  P33  P34  P35  P36  P37    revenue  \n",
       "0  3.0    5    3    4    5    5    4    3    4  5653753.0  \n",
       "1  3.0    0    0    0    0    0    0    0    0  6923131.0  \n",
       "2  3.0    0    0    0    0    0    0    0    0  2055379.0  \n",
       "3  7.5   25   12   10    6   18   12   12    6  2675511.0  \n",
       "4  3.0    5    1    3    2    3    4    3    3  4316715.0  \n",
       "\n",
       "[5 rows x 43 columns]"
      ]
     },
     "execution_count": 3,
     "metadata": {},
     "output_type": "execute_result"
    }
   ],
   "source": [
    "trainData.info()\n",
    "\n",
    "trainData.head(5)"
   ]
  },
  {
   "cell_type": "code",
   "execution_count": 4,
   "id": "8071e35a",
   "metadata": {},
   "outputs": [],
   "source": [
    "trainData['Open Date'] = pd.to_datetime(trainData['Open Date'], format='%m/%d/%Y')   \n",
    "trainData['OpenDays']=\"\"\n",
    "\n",
    "dateLastTrain = pd.DataFrame({'Date':np.repeat(['01/01/2018'],[len(trainData)]) })\n",
    "dateLastTrain['Date'] = pd.to_datetime(dateLastTrain['Date'], format='%m/%d/%Y')  \n",
    "\n",
    "trainData['OpenDays'] = dateLastTrain['Date'] - trainData['Open Date']\n",
    "trainData['OpenDays'] = trainData['OpenDays'].dt.days.astype(int)\n",
    "\n",
    "trainData = trainData.drop('Open Date', axis=1)"
   ]
  },
  {
   "cell_type": "code",
   "execution_count": 5,
   "id": "e716b8dd",
   "metadata": {},
   "outputs": [
    {
     "data": {
      "text/plain": [
       "0      6743\n",
       "1      3609\n",
       "2      1759\n",
       "3      2160\n",
       "4      3159\n",
       "       ... \n",
       "132    3477\n",
       "133    4099\n",
       "134    4195\n",
       "135    2621\n",
       "136    3044\n",
       "Name: OpenDays, Length: 137, dtype: int32"
      ]
     },
     "execution_count": 5,
     "metadata": {},
     "output_type": "execute_result"
    }
   ],
   "source": [
    "trainData['OpenDays']"
   ]
  },
  {
   "cell_type": "code",
   "execution_count": 6,
   "id": "b4c249ce",
   "metadata": {},
   "outputs": [
    {
     "data": {
      "text/plain": [
       "<Axes: xlabel='City Group', ylabel='revenue'>"
      ]
     },
     "execution_count": 6,
     "metadata": {},
     "output_type": "execute_result"
    },
    {
     "data": {
      "image/png": "[encoded data removed]",
      "text/plain": [
       "<Figure size 640x480 with 1 Axes>"
      ]
     },
     "metadata": {},
     "output_type": "display_data"
    }
   ],
   "source": [
    "cityPerc = trainData[[\"City Group\", \"revenue\"]].groupby(['City Group'],as_index=False).mean()\n",
    "sns.barplot(x='City Group', y='revenue', data=cityPerc)"
   ]
  },
  {
   "cell_type": "code",
   "execution_count": 7,
   "id": "57b92b8f",
   "metadata": {},
   "outputs": [
    {
     "data": {
      "text/plain": [
       "<Axes: xlabel='City', ylabel='revenue'>"
      ]
     },
     "execution_count": 7,
     "metadata": {},
     "output_type": "execute_result"
    },
    {
     "data": {
      "image/png": "[encoded data removed]",
      "text/plain": [
       "<Figure size 640x480 with 1 Axes>"
      ]
     },
     "metadata": {},
     "output_type": "display_data"
    }
   ],
   "source": [
    "cityPerc = trainData[[\"City\", \"revenue\"]].groupby(['City'],as_index=False).mean()\n",
    "\n",
    "newDF = cityPerc.sort_values([\"revenue\"],ascending=False)\n",
    "sns.barplot(x='City', y='revenue', data=newDF.head(10))"
   ]
  },
  {
   "cell_type": "code",
   "execution_count": 8,
   "id": "be1a28f7",
   "metadata": {},
   "outputs": [
    {
     "data": {
      "text/html": [
       "<div>\n",
       "<style scoped>\n",
       "    .dataframe tbody tr th:only-of-type {\n",
       "        vertical-align: middle;\n",
       "    }\n",
       "\n",
       "    .dataframe tbody tr th {\n",
       "        vertical-align: top;\n",
       "    }\n",
       "\n",
       "    .dataframe thead th {\n",
       "        text-align: right;\n",
       "    }\n",
       "</style>\n",
       "<table border=\"1\" class=\"dataframe\">\n",
       "  <thead>\n",
       "    <tr style=\"text-align: right;\">\n",
       "      <th></th>\n",
       "      <th>City</th>\n",
       "      <th>revenue</th>\n",
       "    </tr>\n",
       "  </thead>\n",
       "  <tbody>\n",
       "    <tr>\n",
       "      <th>0</th>\n",
       "      <td>Adana</td>\n",
       "      <td>4.894944e+06</td>\n",
       "    </tr>\n",
       "    <tr>\n",
       "      <th>1</th>\n",
       "      <td>Afyonkarahisar</td>\n",
       "      <td>4.952497e+06</td>\n",
       "    </tr>\n",
       "    <tr>\n",
       "      <th>2</th>\n",
       "      <td>Amasya</td>\n",
       "      <td>2.954086e+06</td>\n",
       "    </tr>\n",
       "    <tr>\n",
       "      <th>3</th>\n",
       "      <td>Ankara</td>\n",
       "      <td>3.275406e+06</td>\n",
       "    </tr>\n",
       "    <tr>\n",
       "      <th>4</th>\n",
       "      <td>Antalya</td>\n",
       "      <td>3.481448e+06</td>\n",
       "    </tr>\n",
       "    <tr>\n",
       "      <th>5</th>\n",
       "      <td>Aydın</td>\n",
       "      <td>3.429798e+06</td>\n",
       "    </tr>\n",
       "    <tr>\n",
       "      <th>6</th>\n",
       "      <td>Balıkesir</td>\n",
       "      <td>4.758476e+06</td>\n",
       "    </tr>\n",
       "    <tr>\n",
       "      <th>7</th>\n",
       "      <td>Bolu</td>\n",
       "      <td>4.263629e+06</td>\n",
       "    </tr>\n",
       "    <tr>\n",
       "      <th>8</th>\n",
       "      <td>Bursa</td>\n",
       "      <td>4.092295e+06</td>\n",
       "    </tr>\n",
       "    <tr>\n",
       "      <th>9</th>\n",
       "      <td>Denizli</td>\n",
       "      <td>2.344689e+06</td>\n",
       "    </tr>\n",
       "    <tr>\n",
       "      <th>10</th>\n",
       "      <td>Diyarbakır</td>\n",
       "      <td>3.735351e+06</td>\n",
       "    </tr>\n",
       "    <tr>\n",
       "      <th>11</th>\n",
       "      <td>Edirne</td>\n",
       "      <td>5.444227e+06</td>\n",
       "    </tr>\n",
       "    <tr>\n",
       "      <th>12</th>\n",
       "      <td>Elazığ</td>\n",
       "      <td>5.525735e+06</td>\n",
       "    </tr>\n",
       "    <tr>\n",
       "      <th>13</th>\n",
       "      <td>Eskişehir</td>\n",
       "      <td>3.957953e+06</td>\n",
       "    </tr>\n",
       "    <tr>\n",
       "      <th>14</th>\n",
       "      <td>Gaziantep</td>\n",
       "      <td>4.316715e+06</td>\n",
       "    </tr>\n",
       "    <tr>\n",
       "      <th>15</th>\n",
       "      <td>Isparta</td>\n",
       "      <td>4.015749e+06</td>\n",
       "    </tr>\n",
       "    <tr>\n",
       "      <th>16</th>\n",
       "      <td>Karabük</td>\n",
       "      <td>3.807496e+06</td>\n",
       "    </tr>\n",
       "    <tr>\n",
       "      <th>17</th>\n",
       "      <td>Kastamonu</td>\n",
       "      <td>3.273041e+06</td>\n",
       "    </tr>\n",
       "    <tr>\n",
       "      <th>18</th>\n",
       "      <td>Kayseri</td>\n",
       "      <td>4.567576e+06</td>\n",
       "    </tr>\n",
       "    <tr>\n",
       "      <th>19</th>\n",
       "      <td>Kocaeli</td>\n",
       "      <td>3.745135e+06</td>\n",
       "    </tr>\n",
       "    <tr>\n",
       "      <th>20</th>\n",
       "      <td>Konya</td>\n",
       "      <td>2.667256e+06</td>\n",
       "    </tr>\n",
       "    <tr>\n",
       "      <th>21</th>\n",
       "      <td>Kütahya</td>\n",
       "      <td>2.993069e+06</td>\n",
       "    </tr>\n",
       "    <tr>\n",
       "      <th>22</th>\n",
       "      <td>Kırklareli</td>\n",
       "      <td>1.619683e+06</td>\n",
       "    </tr>\n",
       "    <tr>\n",
       "      <th>23</th>\n",
       "      <td>Muğla</td>\n",
       "      <td>4.111129e+06</td>\n",
       "    </tr>\n",
       "    <tr>\n",
       "      <th>24</th>\n",
       "      <td>Osmaniye</td>\n",
       "      <td>3.376145e+06</td>\n",
       "    </tr>\n",
       "    <tr>\n",
       "      <th>25</th>\n",
       "      <td>Sakarya</td>\n",
       "      <td>3.328853e+06</td>\n",
       "    </tr>\n",
       "    <tr>\n",
       "      <th>26</th>\n",
       "      <td>Samsun</td>\n",
       "      <td>3.247870e+06</td>\n",
       "    </tr>\n",
       "    <tr>\n",
       "      <th>27</th>\n",
       "      <td>Tekirdağ</td>\n",
       "      <td>3.312471e+06</td>\n",
       "    </tr>\n",
       "    <tr>\n",
       "      <th>28</th>\n",
       "      <td>Tokat</td>\n",
       "      <td>2.675511e+06</td>\n",
       "    </tr>\n",
       "    <tr>\n",
       "      <th>29</th>\n",
       "      <td>Trabzon</td>\n",
       "      <td>5.284100e+06</td>\n",
       "    </tr>\n",
       "    <tr>\n",
       "      <th>30</th>\n",
       "      <td>Uşak</td>\n",
       "      <td>1.763231e+06</td>\n",
       "    </tr>\n",
       "    <tr>\n",
       "      <th>31</th>\n",
       "      <td>İstanbul</td>\n",
       "      <td>5.577812e+06</td>\n",
       "    </tr>\n",
       "    <tr>\n",
       "      <th>32</th>\n",
       "      <td>İzmir</td>\n",
       "      <td>5.287571e+06</td>\n",
       "    </tr>\n",
       "    <tr>\n",
       "      <th>33</th>\n",
       "      <td>Şanlıurfa</td>\n",
       "      <td>3.261924e+06</td>\n",
       "    </tr>\n",
       "  </tbody>\n",
       "</table>\n",
       "</div>"
      ],
      "text/plain": [
       "              City       revenue\n",
       "0            Adana  4.894944e+06\n",
       "1   Afyonkarahisar  4.952497e+06\n",
       "2           Amasya  2.954086e+06\n",
       "3           Ankara  3.275406e+06\n",
       "4          Antalya  3.481448e+06\n",
       "5            Aydın  3.429798e+06\n",
       "6        Balıkesir  4.758476e+06\n",
       "7             Bolu  4.263629e+06\n",
       "8            Bursa  4.092295e+06\n",
       "9          Denizli  2.344689e+06\n",
       "10      Diyarbakır  3.735351e+06\n",
       "11          Edirne  5.444227e+06\n",
       "12          Elazığ  5.525735e+06\n",
       "13       Eskişehir  3.957953e+06\n",
       "14       Gaziantep  4.316715e+06\n",
       "15         Isparta  4.015749e+06\n",
       "16         Karabük  3.807496e+06\n",
       "17       Kastamonu  3.273041e+06\n",
       "18         Kayseri  4.567576e+06\n",
       "19         Kocaeli  3.745135e+06\n",
       "20           Konya  2.667256e+06\n",
       "21         Kütahya  2.993069e+06\n",
       "22      Kırklareli  1.619683e+06\n",
       "23           Muğla  4.111129e+06\n",
       "24        Osmaniye  3.376145e+06\n",
       "25         Sakarya  3.328853e+06\n",
       "26          Samsun  3.247870e+06\n",
       "27        Tekirdağ  3.312471e+06\n",
       "28           Tokat  2.675511e+06\n",
       "29         Trabzon  5.284100e+06\n",
       "30            Uşak  1.763231e+06\n",
       "31        İstanbul  5.577812e+06\n",
       "32           İzmir  5.287571e+06\n",
       "33       Şanlıurfa  3.261924e+06"
      ]
     },
     "execution_count": 8,
     "metadata": {},
     "output_type": "execute_result"
    }
   ],
   "source": [
    "cityPerc"
   ]
  },
  {
   "cell_type": "code",
   "execution_count": 9,
   "id": "cf9b73c8",
   "metadata": {},
   "outputs": [
    {
     "data": {
      "text/plain": [
       "array(['IL', 'FC', 'DT'], dtype=object)"
      ]
     },
     "execution_count": 9,
     "metadata": {},
     "output_type": "execute_result"
    }
   ],
   "source": [
    "trainData['Type'].unique()"
   ]
  },
  {
   "cell_type": "code",
   "execution_count": 10,
   "id": "13344411",
   "metadata": {},
   "outputs": [],
   "source": [
    "trainData = trainData.drop('Id', axis=1)\n",
    "trainData = trainData.drop('Type', axis=1)"
   ]
  },
  {
   "cell_type": "code",
   "execution_count": 11,
   "id": "42cad3e6",
   "metadata": {},
   "outputs": [],
   "source": [
    "citygroupDummy = pd.get_dummies(trainData['City Group'])\n",
    "trainData = trainData.join(citygroupDummy)\n",
    "\n",
    "\n",
    "trainData = trainData.drop('City Group', axis=1)\n",
    "\n",
    "trainData = trainData.drop('City', axis=1)\n",
    "\n",
    "tempRev = trainData['revenue']\n",
    "trainData = trainData.drop('revenue', axis=1)\n",
    "\n",
    "trainData = trainData.join(tempRev)"
   ]
  },
  {
   "cell_type": "code",
   "execution_count": 12,
   "id": "a3b3f9c4",
   "metadata": {},
   "outputs": [
    {
     "data": {
      "text/html": [
       "<div>\n",
       "<style scoped>\n",
       "    .dataframe tbody tr th:only-of-type {\n",
       "        vertical-align: middle;\n",
       "    }\n",
       "\n",
       "    .dataframe tbody tr th {\n",
       "        vertical-align: top;\n",
       "    }\n",
       "\n",
       "    .dataframe thead th {\n",
       "        text-align: right;\n",
       "    }\n",
       "</style>\n",
       "<table border=\"1\" class=\"dataframe\">\n",
       "  <thead>\n",
       "    <tr style=\"text-align: right;\">\n",
       "      <th></th>\n",
       "      <th>P1</th>\n",
       "      <th>P2</th>\n",
       "      <th>P3</th>\n",
       "      <th>P4</th>\n",
       "      <th>P5</th>\n",
       "      <th>P6</th>\n",
       "      <th>P7</th>\n",
       "      <th>P8</th>\n",
       "      <th>P9</th>\n",
       "      <th>P10</th>\n",
       "      <th>...</th>\n",
       "      <th>P32</th>\n",
       "      <th>P33</th>\n",
       "      <th>P34</th>\n",
       "      <th>P35</th>\n",
       "      <th>P36</th>\n",
       "      <th>P37</th>\n",
       "      <th>OpenDays</th>\n",
       "      <th>Big Cities</th>\n",
       "      <th>Other</th>\n",
       "      <th>revenue</th>\n",
       "    </tr>\n",
       "  </thead>\n",
       "  <tbody>\n",
       "    <tr>\n",
       "      <th>0</th>\n",
       "      <td>4</td>\n",
       "      <td>5.0</td>\n",
       "      <td>4.0</td>\n",
       "      <td>4.0</td>\n",
       "      <td>2</td>\n",
       "      <td>2</td>\n",
       "      <td>5</td>\n",
       "      <td>4</td>\n",
       "      <td>5</td>\n",
       "      <td>5</td>\n",
       "      <td>...</td>\n",
       "      <td>4</td>\n",
       "      <td>5</td>\n",
       "      <td>5</td>\n",
       "      <td>4</td>\n",
       "      <td>3</td>\n",
       "      <td>4</td>\n",
       "      <td>6743</td>\n",
       "      <td>True</td>\n",
       "      <td>False</td>\n",
       "      <td>5653753.0</td>\n",
       "    </tr>\n",
       "    <tr>\n",
       "      <th>1</th>\n",
       "      <td>4</td>\n",
       "      <td>5.0</td>\n",
       "      <td>4.0</td>\n",
       "      <td>4.0</td>\n",
       "      <td>1</td>\n",
       "      <td>2</td>\n",
       "      <td>5</td>\n",
       "      <td>5</td>\n",
       "      <td>5</td>\n",
       "      <td>5</td>\n",
       "      <td>...</td>\n",
       "      <td>0</td>\n",
       "      <td>0</td>\n",
       "      <td>0</td>\n",
       "      <td>0</td>\n",
       "      <td>0</td>\n",
       "      <td>0</td>\n",
       "      <td>3609</td>\n",
       "      <td>True</td>\n",
       "      <td>False</td>\n",
       "      <td>6923131.0</td>\n",
       "    </tr>\n",
       "    <tr>\n",
       "      <th>2</th>\n",
       "      <td>2</td>\n",
       "      <td>4.0</td>\n",
       "      <td>2.0</td>\n",
       "      <td>5.0</td>\n",
       "      <td>2</td>\n",
       "      <td>3</td>\n",
       "      <td>5</td>\n",
       "      <td>5</td>\n",
       "      <td>5</td>\n",
       "      <td>5</td>\n",
       "      <td>...</td>\n",
       "      <td>0</td>\n",
       "      <td>0</td>\n",
       "      <td>0</td>\n",
       "      <td>0</td>\n",
       "      <td>0</td>\n",
       "      <td>0</td>\n",
       "      <td>1759</td>\n",
       "      <td>False</td>\n",
       "      <td>True</td>\n",
       "      <td>2055379.0</td>\n",
       "    </tr>\n",
       "    <tr>\n",
       "      <th>3</th>\n",
       "      <td>6</td>\n",
       "      <td>4.5</td>\n",
       "      <td>6.0</td>\n",
       "      <td>6.0</td>\n",
       "      <td>4</td>\n",
       "      <td>4</td>\n",
       "      <td>10</td>\n",
       "      <td>8</td>\n",
       "      <td>10</td>\n",
       "      <td>10</td>\n",
       "      <td>...</td>\n",
       "      <td>10</td>\n",
       "      <td>6</td>\n",
       "      <td>18</td>\n",
       "      <td>12</td>\n",
       "      <td>12</td>\n",
       "      <td>6</td>\n",
       "      <td>2160</td>\n",
       "      <td>False</td>\n",
       "      <td>True</td>\n",
       "      <td>2675511.0</td>\n",
       "    </tr>\n",
       "    <tr>\n",
       "      <th>4</th>\n",
       "      <td>3</td>\n",
       "      <td>4.0</td>\n",
       "      <td>3.0</td>\n",
       "      <td>4.0</td>\n",
       "      <td>2</td>\n",
       "      <td>2</td>\n",
       "      <td>5</td>\n",
       "      <td>5</td>\n",
       "      <td>5</td>\n",
       "      <td>5</td>\n",
       "      <td>...</td>\n",
       "      <td>3</td>\n",
       "      <td>2</td>\n",
       "      <td>3</td>\n",
       "      <td>4</td>\n",
       "      <td>3</td>\n",
       "      <td>3</td>\n",
       "      <td>3159</td>\n",
       "      <td>False</td>\n",
       "      <td>True</td>\n",
       "      <td>4316715.0</td>\n",
       "    </tr>\n",
       "    <tr>\n",
       "      <th>5</th>\n",
       "      <td>6</td>\n",
       "      <td>6.0</td>\n",
       "      <td>4.5</td>\n",
       "      <td>7.5</td>\n",
       "      <td>8</td>\n",
       "      <td>10</td>\n",
       "      <td>10</td>\n",
       "      <td>8</td>\n",
       "      <td>8</td>\n",
       "      <td>8</td>\n",
       "      <td>...</td>\n",
       "      <td>0</td>\n",
       "      <td>0</td>\n",
       "      <td>0</td>\n",
       "      <td>0</td>\n",
       "      <td>0</td>\n",
       "      <td>0</td>\n",
       "      <td>2880</td>\n",
       "      <td>True</td>\n",
       "      <td>False</td>\n",
       "      <td>5017319.0</td>\n",
       "    </tr>\n",
       "    <tr>\n",
       "      <th>6</th>\n",
       "      <td>2</td>\n",
       "      <td>3.0</td>\n",
       "      <td>4.0</td>\n",
       "      <td>4.0</td>\n",
       "      <td>1</td>\n",
       "      <td>5</td>\n",
       "      <td>5</td>\n",
       "      <td>5</td>\n",
       "      <td>5</td>\n",
       "      <td>5</td>\n",
       "      <td>...</td>\n",
       "      <td>2</td>\n",
       "      <td>2</td>\n",
       "      <td>3</td>\n",
       "      <td>5</td>\n",
       "      <td>4</td>\n",
       "      <td>4</td>\n",
       "      <td>2639</td>\n",
       "      <td>True</td>\n",
       "      <td>False</td>\n",
       "      <td>5166635.0</td>\n",
       "    </tr>\n",
       "    <tr>\n",
       "      <th>7</th>\n",
       "      <td>4</td>\n",
       "      <td>5.0</td>\n",
       "      <td>4.0</td>\n",
       "      <td>5.0</td>\n",
       "      <td>2</td>\n",
       "      <td>3</td>\n",
       "      <td>5</td>\n",
       "      <td>4</td>\n",
       "      <td>4</td>\n",
       "      <td>4</td>\n",
       "      <td>...</td>\n",
       "      <td>0</td>\n",
       "      <td>0</td>\n",
       "      <td>0</td>\n",
       "      <td>0</td>\n",
       "      <td>0</td>\n",
       "      <td>0</td>\n",
       "      <td>2386</td>\n",
       "      <td>True</td>\n",
       "      <td>False</td>\n",
       "      <td>4491607.0</td>\n",
       "    </tr>\n",
       "    <tr>\n",
       "      <th>8</th>\n",
       "      <td>1</td>\n",
       "      <td>1.0</td>\n",
       "      <td>4.0</td>\n",
       "      <td>4.0</td>\n",
       "      <td>1</td>\n",
       "      <td>2</td>\n",
       "      <td>1</td>\n",
       "      <td>5</td>\n",
       "      <td>5</td>\n",
       "      <td>5</td>\n",
       "      <td>...</td>\n",
       "      <td>5</td>\n",
       "      <td>3</td>\n",
       "      <td>4</td>\n",
       "      <td>5</td>\n",
       "      <td>4</td>\n",
       "      <td>5</td>\n",
       "      <td>2683</td>\n",
       "      <td>False</td>\n",
       "      <td>True</td>\n",
       "      <td>4952497.0</td>\n",
       "    </tr>\n",
       "    <tr>\n",
       "      <th>9</th>\n",
       "      <td>6</td>\n",
       "      <td>4.5</td>\n",
       "      <td>6.0</td>\n",
       "      <td>7.5</td>\n",
       "      <td>6</td>\n",
       "      <td>4</td>\n",
       "      <td>10</td>\n",
       "      <td>10</td>\n",
       "      <td>10</td>\n",
       "      <td>10</td>\n",
       "      <td>...</td>\n",
       "      <td>0</td>\n",
       "      <td>0</td>\n",
       "      <td>0</td>\n",
       "      <td>0</td>\n",
       "      <td>0</td>\n",
       "      <td>0</td>\n",
       "      <td>2238</td>\n",
       "      <td>False</td>\n",
       "      <td>True</td>\n",
       "      <td>5444227.0</td>\n",
       "    </tr>\n",
       "  </tbody>\n",
       "</table>\n",
       "<p>10 rows × 41 columns</p>\n",
       "</div>"
      ],
      "text/plain": [
       "   P1   P2   P3   P4  P5  P6  P7  P8  P9  P10  ...  P32  P33  P34  P35  P36  \\\n",
       "0   4  5.0  4.0  4.0   2   2   5   4   5    5  ...    4    5    5    4    3   \n",
       "1   4  5.0  4.0  4.0   1   2   5   5   5    5  ...    0    0    0    0    0   \n",
       "2   2  4.0  2.0  5.0   2   3   5   5   5    5  ...    0    0    0    0    0   \n",
       "3   6  4.5  6.0  6.0   4   4  10   8  10   10  ...   10    6   18   12   12   \n",
       "4   3  4.0  3.0  4.0   2   2   5   5   5    5  ...    3    2    3    4    3   \n",
       "5   6  6.0  4.5  7.5   8  10  10   8   8    8  ...    0    0    0    0    0   \n",
       "6   2  3.0  4.0  4.0   1   5   5   5   5    5  ...    2    2    3    5    4   \n",
       "7   4  5.0  4.0  5.0   2   3   5   4   4    4  ...    0    0    0    0    0   \n",
       "8   1  1.0  4.0  4.0   1   2   1   5   5    5  ...    5    3    4    5    4   \n",
       "9   6  4.5  6.0  7.5   6   4  10  10  10   10  ...    0    0    0    0    0   \n",
       "\n",
       "   P37  OpenDays  Big Cities  Other    revenue  \n",
       "0    4      6743        True  False  5653753.0  \n",
       "1    0      3609        True  False  6923131.0  \n",
       "2    0      1759       False   True  2055379.0  \n",
       "3    6      2160       False   True  2675511.0  \n",
       "4    3      3159       False   True  4316715.0  \n",
       "5    0      2880        True  False  5017319.0  \n",
       "6    4      2639        True  False  5166635.0  \n",
       "7    0      2386        True  False  4491607.0  \n",
       "8    5      2683       False   True  4952497.0  \n",
       "9    0      2238       False   True  5444227.0  \n",
       "\n",
       "[10 rows x 41 columns]"
      ]
     },
     "execution_count": 12,
     "metadata": {},
     "output_type": "execute_result"
    }
   ],
   "source": [
    "trainData.head(10)"
   ]
  },
  {
   "cell_type": "code",
   "execution_count": 13,
   "id": "086e18de",
   "metadata": {},
   "outputs": [
    {
     "data": {
      "text/plain": [
       "((95, 39), (42, 39), (95,), (42,))"
      ]
     },
     "execution_count": 13,
     "metadata": {},
     "output_type": "execute_result"
    }
   ],
   "source": [
    "from sklearn.model_selection import train_test_split\n",
    "\n",
    "X, y = trainData.iloc[:, 1:40].values, trainData.iloc[:, 40].values\n",
    "\n",
    "X_trainForBestFeatures, X_testForBestFeatures, y_trainForBestFeatures, y_testForBestFeatures = train_test_split(X, y, test_size=0.3, random_state=0)\n",
    "\n",
    "X_trainForBestFeatures.shape, X_testForBestFeatures.shape, y_trainForBestFeatures.shape, y_testForBestFeatures.shape"
   ]
  },
  {
   "cell_type": "code",
   "execution_count": 14,
   "id": "ef3f1e87",
   "metadata": {},
   "outputs": [
    {
     "name": "stdout",
     "output_type": "stream",
     "text": [
      "Score is calculated as:  0.8714221813896796\n"
     ]
    }
   ],
   "source": [
    "import numpy\n",
    "from sklearn import linear_model\n",
    "cls = RandomForestRegressor(n_estimators=250, criterion='squared_error', max_depth=30)\n",
    "cls.fit(X_trainForBestFeatures, y_trainForBestFeatures)\n",
    "scoreOfModel = cls.score(X_trainForBestFeatures, y_trainForBestFeatures)\n",
    "\n",
    "print(\"Score is calculated as: \", scoreOfModel)"
   ]
  },
  {
   "cell_type": "code",
   "execution_count": 15,
   "id": "d280029f",
   "metadata": {},
   "outputs": [
    {
     "data": {
      "text/plain": [
       "array([4234945.572])"
      ]
     },
     "execution_count": 15,
     "metadata": {},
     "output_type": "execute_result"
    }
   ],
   "source": [
    "pred = cls.predict([X_testForBestFeatures[0]])\n",
    "pred"
   ]
  },
  {
   "cell_type": "code",
   "execution_count": 48,
   "id": "08cb262f",
   "metadata": {},
   "outputs": [
    {
     "data": {
      "text/plain": [
       "array([ 2.09130851,  1.34102175,  5.08109989,  0.46605245,  5.10146243,\n",
       "        1.98379454,  1.98870247,  1.46062375,  1.66075025,  1.67118652,\n",
       "        3.44571726,  2.93124707,  2.16423775,  3.60071391,  3.26802686,\n",
       "       -0.43271968,  2.54913871,  2.1989574 ,  0.52198917,  2.07808175])"
      ]
     },
     "execution_count": 48,
     "metadata": {},
     "output_type": "execute_result"
    }
   ],
   "source": [
    "y[:20]"
   ]
  },
  {
   "cell_type": "code",
   "execution_count": 50,
   "id": "3dca5228",
   "metadata": {},
   "outputs": [
    {
     "data": {
      "text/plain": [
       "array([9.99867408e-01, 9.00441615e-05])"
      ]
     },
     "execution_count": 50,
     "metadata": {},
     "output_type": "execute_result"
    }
   ],
   "source": [
    "from sklearn.decomposition import PCA, KernelPCA\n",
    "\n",
    "pca = PCA(n_components=2,svd_solver='full')\n",
    "X_train_pca = pca.fit_transform(X_trainForBestFeatures)\n",
    "X_test_pca = pca.transform(X_testForBestFeatures)\n",
    "pca.explained_variance_ratio_"
   ]
  },
  {
   "cell_type": "code",
   "execution_count": 54,
   "id": "5a4074bd",
   "metadata": {},
   "outputs": [
    {
     "name": "stdout",
     "output_type": "stream",
     "text": [
      "Score is calculated as:  0.8450520269706056\n"
     ]
    }
   ],
   "source": [
    "cls_pca = RandomForestRegressor(n_estimators=250, criterion='squared_error', max_depth=30)\n",
    "\n",
    "cls_pca.fit(X_train_pca, y_trainForBestFeatures)\n",
    "scoreOfModel = cls_pca.score(X_train_pca, y_trainForBestFeatures)\n",
    "print(\"Score is calculated as: \",scoreOfModel)"
   ]
  },
  {
   "cell_type": "code",
   "execution_count": 55,
   "id": "1be2e87b",
   "metadata": {},
   "outputs": [],
   "source": [
    "# pca is good for linear data and kernel performs excellent for linear and non linear data\n",
    "kpca = KernelPCA(kernel='rbf', gamma=1)\n",
    "X_kpca_train = kpca.fit_transform(X_train_pca)\n",
    "X_kpca_test = kpca.transform(X_test_pca)"
   ]
  },
  {
   "cell_type": "code",
   "execution_count": 57,
   "id": "fc21b7ad",
   "metadata": {},
   "outputs": [
    {
     "name": "stdout",
     "output_type": "stream",
     "text": [
      "Score is calculated as:  0.8400157147336821\n"
     ]
    }
   ],
   "source": [
    "cls_kpca = RandomForestRegressor(n_estimators=250, criterion='squared_error', max_depth=30)\n",
    "\n",
    "cls_kpca.fit(X_kpca_train, y_trainForBestFeatures)\n",
    "scoreOfModel = cls_kpca.score(X_kpca_train, y_trainForBestFeatures)\n",
    "print(\"Score is calculated as: \",scoreOfModel)"
   ]
  },
  {
   "cell_type": "code",
   "execution_count": null,
   "id": "a82bc61a",
   "metadata": {},
   "outputs": [],
   "source": []
  },
  {
   "cell_type": "markdown",
   "id": "1cecaeff",
   "metadata": {},
   "source": [
    "#  Practice PCA"
   ]
  },
  {
   "cell_type": "code",
   "execution_count": 1,
   "id": "498e5f0a",
   "metadata": {},
   "outputs": [],
   "source": [
    "import numpy as np\n",
    "import pandas as pd\n",
    "from sklearn.decomposition import PCA\n",
    "from sklearn.linear_model import LinearRegression\n",
    "from sklearn.preprocessing import StandardScaler\n",
    "from sklearn.model_selection import train_test_split\n",
    "from sklearn.metrics import mean_squared_error"
   ]
  },
  {
   "cell_type": "code",
   "execution_count": 2,
   "id": "7a951761",
   "metadata": {},
   "outputs": [],
   "source": [
    "np.random.seed(0)\n",
    "X = np.random.rand(100, 5)\n",
    "y = 3*X[:, 0] + 2*X[:, 1] + np.random.randn(100)"
   ]
  },
  {
   "cell_type": "code",
   "execution_count": 3,
   "id": "156fbcbf",
   "metadata": {},
   "outputs": [
    {
     "name": "stdout",
     "output_type": "stream",
     "text": [
      "[[0.5488135  0.71518937 0.60276338 0.54488318 0.4236548 ]\n",
      " [0.64589411 0.43758721 0.891773   0.96366276 0.38344152]\n",
      " [0.79172504 0.52889492 0.56804456 0.92559664 0.07103606]\n",
      " [0.0871293  0.0202184  0.83261985 0.77815675 0.87001215]\n",
      " [0.97861834 0.79915856 0.46147936 0.78052918 0.11827443]\n",
      " [0.63992102 0.14335329 0.94466892 0.52184832 0.41466194]\n",
      " [0.26455561 0.77423369 0.45615033 0.56843395 0.0187898 ]\n",
      " [0.6176355  0.61209572 0.616934   0.94374808 0.6818203 ]\n",
      " [0.3595079  0.43703195 0.6976312  0.06022547 0.66676672]\n",
      " [0.67063787 0.21038256 0.1289263  0.31542835 0.36371077]\n",
      " [0.57019677 0.43860151 0.98837384 0.10204481 0.20887676]\n",
      " [0.16130952 0.65310833 0.2532916  0.46631077 0.24442559]\n",
      " [0.15896958 0.11037514 0.65632959 0.13818295 0.19658236]\n",
      " [0.36872517 0.82099323 0.09710128 0.83794491 0.09609841]\n",
      " [0.97645947 0.4686512  0.97676109 0.60484552 0.73926358]\n",
      " [0.03918779 0.28280696 0.12019656 0.2961402  0.11872772]\n",
      " [0.31798318 0.41426299 0.0641475  0.69247212 0.56660145]\n",
      " [0.26538949 0.52324805 0.09394051 0.5759465  0.9292962 ]\n",
      " [0.31856895 0.66741038 0.13179786 0.7163272  0.28940609]\n",
      " [0.18319136 0.58651293 0.02010755 0.82894003 0.00469548]\n",
      " [0.67781654 0.27000797 0.73519402 0.96218855 0.24875314]\n",
      " [0.57615733 0.59204193 0.57225191 0.22308163 0.95274901]\n",
      " [0.44712538 0.84640867 0.69947928 0.29743695 0.81379782]\n",
      " [0.39650574 0.8811032  0.58127287 0.88173536 0.69253159]\n",
      " [0.72525428 0.50132438 0.95608363 0.6439902  0.42385505]\n",
      " [0.60639321 0.0191932  0.30157482 0.66017354 0.29007761]\n",
      " [0.61801543 0.4287687  0.13547406 0.29828233 0.56996491]\n",
      " [0.59087276 0.57432525 0.65320082 0.65210327 0.43141844]\n",
      " [0.8965466  0.36756187 0.43586493 0.89192336 0.80619399]\n",
      " [0.70388858 0.10022689 0.91948261 0.7142413  0.99884701]\n",
      " [0.1494483  0.86812606 0.16249293 0.61555956 0.12381998]\n",
      " [0.84800823 0.80731896 0.56910074 0.4071833  0.069167  ]\n",
      " [0.69742877 0.45354268 0.7220556  0.86638233 0.97552151]\n",
      " [0.85580334 0.01171408 0.35997806 0.72999056 0.17162968]\n",
      " [0.52103661 0.05433799 0.19999652 0.01852179 0.7936977 ]\n",
      " [0.22392469 0.34535168 0.92808129 0.7044144  0.03183893]\n",
      " [0.16469416 0.6214784  0.57722859 0.23789282 0.934214  ]\n",
      " [0.61396596 0.5356328  0.58990998 0.73012203 0.311945  ]\n",
      " [0.39822106 0.20984375 0.18619301 0.94437239 0.7395508 ]\n",
      " [0.49045881 0.22741463 0.25435648 0.05802916 0.43441663]\n",
      " [0.31179588 0.69634349 0.37775184 0.17960368 0.02467873]\n",
      " [0.06724963 0.67939277 0.45369684 0.53657921 0.89667129]\n",
      " [0.99033895 0.21689698 0.6630782  0.26332238 0.020651  ]\n",
      " [0.75837865 0.32001715 0.38346389 0.58831711 0.83104846]\n",
      " [0.62898184 0.87265066 0.27354203 0.79804683 0.18563594]\n",
      " [0.95279166 0.68748828 0.21550768 0.94737059 0.73085581]\n",
      " [0.25394164 0.21331198 0.51820071 0.02566272 0.20747008]\n",
      " [0.42468547 0.37416998 0.46357542 0.27762871 0.58678435]\n",
      " [0.86385561 0.11753186 0.51737911 0.13206811 0.71685968]\n",
      " [0.3960597  0.56542131 0.18327984 0.14484776 0.48805628]\n",
      " [0.35561274 0.94043195 0.76532525 0.74866362 0.90371974]\n",
      " [0.08342244 0.55219247 0.58447607 0.96193638 0.29214753]\n",
      " [0.24082878 0.10029394 0.01642963 0.92952932 0.66991655]\n",
      " [0.78515291 0.28173011 0.58641017 0.06395527 0.4856276 ]\n",
      " [0.97749514 0.87650525 0.33815895 0.96157015 0.23170163]\n",
      " [0.94931882 0.9413777  0.79920259 0.63044794 0.87428797]\n",
      " [0.29302028 0.84894356 0.61787669 0.01323686 0.34723352]\n",
      " [0.14814086 0.98182939 0.47837031 0.49739137 0.63947252]\n",
      " [0.36858461 0.13690027 0.82211773 0.18984791 0.51131898]\n",
      " [0.22431703 0.09784448 0.86219152 0.97291949 0.96083466]\n",
      " [0.9065555  0.77404733 0.33314515 0.08110139 0.40724117]\n",
      " [0.23223414 0.13248763 0.05342718 0.72559436 0.01142746]\n",
      " [0.77058075 0.14694665 0.07952208 0.08960303 0.67204781]\n",
      " [0.24536721 0.42053947 0.55736879 0.86055117 0.72704426]\n",
      " [0.27032791 0.1314828  0.05537432 0.30159863 0.26211815]\n",
      " [0.45614057 0.68328134 0.69562545 0.28351885 0.37992696]\n",
      " [0.18115096 0.78854551 0.05684808 0.69699724 0.7786954 ]\n",
      " [0.77740756 0.25942256 0.37381314 0.58759964 0.2728219 ]\n",
      " [0.3708528  0.19705428 0.45985588 0.0446123  0.79979588]\n",
      " [0.07695645 0.51883515 0.3068101  0.57754295 0.95943334]\n",
      " [0.64557024 0.03536244 0.43040244 0.51001685 0.53617749]\n",
      " [0.68139251 0.2775961  0.12886057 0.39267568 0.95640572]\n",
      " [0.18713089 0.90398395 0.54380595 0.45691142 0.88204141]\n",
      " [0.45860396 0.72416764 0.39902532 0.90404439 0.69002502]\n",
      " [0.69962205 0.3277204  0.75677864 0.63606106 0.24002027]\n",
      " [0.16053882 0.79639147 0.9591666  0.45813883 0.59098417]\n",
      " [0.85772264 0.45722345 0.95187448 0.57575116 0.82076712]\n",
      " [0.90884372 0.81552382 0.15941446 0.62889844 0.39843426]\n",
      " [0.06271295 0.42403225 0.25868407 0.84903831 0.03330463]\n",
      " [0.95898272 0.35536885 0.35670689 0.0163285  0.18523233]\n",
      " [0.4012595  0.92929142 0.09961493 0.94530153 0.86948853]\n",
      " [0.4541624  0.32670088 0.23274413 0.61446471 0.03307459]\n",
      " [0.01560606 0.42879572 0.06807407 0.25194099 0.22116092]\n",
      " [0.25319119 0.13105523 0.01203622 0.1154843  0.61848026]\n",
      " [0.97425621 0.990345   0.4090541  0.16295443 0.63876176]\n",
      " [0.49030535 0.98940978 0.06530421 0.78323444 0.2883985 ]\n",
      " [0.24141862 0.66250457 0.24606318 0.66585912 0.51730852]\n",
      " [0.42408899 0.55468781 0.28705152 0.70657471 0.41485687]\n",
      " [0.36054556 0.82865691 0.92496691 0.04600731 0.23262699]\n",
      " [0.34851937 0.81496648 0.98549143 0.9689717  0.90494835]\n",
      " [0.29655627 0.99201124 0.24942004 0.10590615 0.95095261]\n",
      " [0.23342026 0.68976827 0.05835636 0.7307091  0.88172021]\n",
      " [0.2724369  0.3790569  0.37429618 0.74878826 0.23780724]\n",
      " [0.1718531  0.44929165 0.30446841 0.83918912 0.23774183]\n",
      " [0.50238946 0.9425836  0.6339977  0.86728941 0.94020969]\n",
      " [0.75076486 0.69957506 0.96796557 0.99440079 0.45182168]\n",
      " [0.07086978 0.29279403 0.15235471 0.41748637 0.13128933]\n",
      " [0.6041178  0.38280806 0.89538588 0.96779467 0.5468849 ]\n",
      " [0.27482357 0.59223042 0.89676116 0.40673335 0.55207828]\n",
      " [0.27165277 0.45544415 0.40171354 0.24841347 0.50586638]]\n"
     ]
    }
   ],
   "source": [
    "print(X)"
   ]
  },
  {
   "cell_type": "code",
   "execution_count": 4,
   "id": "f2aafa44",
   "metadata": {},
   "outputs": [
    {
     "name": "stdout",
     "output_type": "stream",
     "text": [
      "[ 2.09130851e+00  1.34102175e+00  5.08109989e+00  4.66052449e-01\n",
      "  5.10146243e+00  1.98379454e+00  1.98870247e+00  1.46062375e+00\n",
      "  1.66075025e+00  1.67118652e+00  3.44571726e+00  2.93124707e+00\n",
      "  2.16423775e+00  3.60071391e+00  3.26802686e+00 -4.32719684e-01\n",
      "  2.54913871e+00  2.19895740e+00  5.21989167e-01  2.07808175e+00\n",
      "  3.38798538e+00  2.97148145e+00  2.84913981e+00  2.14407513e+00\n",
      "  1.73187690e+00  2.65786399e+00  2.40246924e+00  2.68780212e+00\n",
      "  5.15748471e+00  2.99662063e+00  2.55542203e+00  4.30072441e+00\n",
      "  4.51936655e+00  4.31042750e+00  2.60129091e+00  1.94470202e+00\n",
      " -3.57563799e-01  3.03688539e+00  1.48424373e+00  2.02015891e+00\n",
      "  3.27112071e+00 -1.17914273e+00  2.83549876e+00  3.18507462e+00\n",
      "  3.16540130e+00  2.81644541e+00  2.05741237e+00  2.29926827e+00\n",
      "  1.85552596e+00  2.63383894e+00  3.76928782e+00  1.35994489e+00\n",
      "  1.72363903e+00  2.99717912e+00  4.29026693e+00  3.57129136e+00\n",
      "  2.49101720e+00  2.60237430e+00  2.25538712e+00  7.53532587e-01\n",
      "  4.72517677e+00 -2.93431770e-03  1.82300638e+00  1.46679126e+00\n",
      "  1.93208503e-02  3.55523221e+00  2.58367424e+00  3.13016358e+00\n",
      "  1.84557108e+00  3.28958320e+00  1.53857142e+00  3.97928442e-01\n",
      "  2.56866078e+00  2.77354362e+00  2.23678792e+00  1.09556956e+00\n",
      "  3.04842532e+00  4.53891722e+00  5.33386659e-01  6.00013954e+00\n",
      "  2.10185696e+00  1.22277159e+00 -1.38421040e+00  1.27316846e+00\n",
      "  2.88705201e+00  2.91028096e+00  1.77359447e+00  1.67191462e+00\n",
      "  4.47782319e+00  3.66988546e+00  4.19282816e+00  1.19737848e+00\n",
      "  2.70401854e+00  1.91014354e+00  4.16374152e+00  4.68088353e+00\n",
      " -1.10565849e-01  2.15365191e+00  2.87152756e+00 -9.29772491e-01]\n"
     ]
    }
   ],
   "source": [
    "print(y)"
   ]
  },
  {
   "cell_type": "code",
   "execution_count": 5,
   "id": "f54e1793",
   "metadata": {},
   "outputs": [],
   "source": [
    "scaler = StandardScaler()\n",
    "X_scaled = scaler.fit_transform(X)"
   ]
  },
  {
   "cell_type": "code",
   "execution_count": 6,
   "id": "48b43cf6",
   "metadata": {},
   "outputs": [],
   "source": [
    "X_train, X_test, y_train, y_test = train_test_split(X_scaled, y, test_size=0.3, random_state=0)"
   ]
  },
  {
   "cell_type": "code",
   "execution_count": 7,
   "id": "6b65d09e",
   "metadata": {},
   "outputs": [],
   "source": [
    "pca = PCA()\n",
    "X_train_pca = pca.fit_transform(X_train)\n",
    "X_test_pca = pca.transform(X_test)"
   ]
  },
  {
   "cell_type": "code",
   "execution_count": 8,
   "id": "7c5a6d1d",
   "metadata": {},
   "outputs": [],
   "source": [
    "explained_variance = np.cumsum(pca.explained_variance_ratio_)\n",
    "n_components = [i for i , x in enumerate(explained_variance >= 0.8) if x]"
   ]
  },
  {
   "cell_type": "code",
   "execution_count": 9,
   "id": "8c508737",
   "metadata": {},
   "outputs": [
    {
     "data": {
      "text/plain": [
       "array([0.27478037, 0.50960111, 0.69916096, 0.87270983, 1.        ])"
      ]
     },
     "execution_count": 9,
     "metadata": {},
     "output_type": "execute_result"
    }
   ],
   "source": [
    "explained_variance"
   ]
  },
  {
   "cell_type": "code",
   "execution_count": 10,
   "id": "3cfc8eff",
   "metadata": {},
   "outputs": [
    {
     "data": {
      "text/plain": [
       "[3, 4]"
      ]
     },
     "execution_count": 10,
     "metadata": {},
     "output_type": "execute_result"
    }
   ],
   "source": [
    "n_components"
   ]
  },
  {
   "cell_type": "code",
   "execution_count": 11,
   "id": "e6d0a48b",
   "metadata": {},
   "outputs": [],
   "source": [
    "X_train_pca_reduced = X_train_pca[:, n_components]\n",
    "X_test_pca_reduced = X_test_pca[:, n_components]"
   ]
  },
  {
   "cell_type": "code",
   "execution_count": 12,
   "id": "1396c2fb",
   "metadata": {},
   "outputs": [
    {
     "data": {
      "text/plain": [
       "array([[-0.20597683, -1.2098313 ],\n",
       "       [ 0.9552409 , -0.72706665],\n",
       "       [-1.39328851, -0.52840803],\n",
       "       [-1.89981562, -0.57700828],\n",
       "       [ 0.98398131,  1.62422549],\n",
       "       [ 0.34046798,  0.17565669],\n",
       "       [ 1.21263534,  0.21722044],\n",
       "       [-1.05183328,  0.96391525],\n",
       "       [ 0.05216092,  0.39197144],\n",
       "       [ 0.47277891,  0.23687013],\n",
       "       [ 0.83781259,  0.55174927],\n",
       "       [ 1.46547435,  0.41990328],\n",
       "       [ 0.27759442, -0.49809332],\n",
       "       [-0.88798261,  0.44703176],\n",
       "       [ 1.8729715 , -0.49760612],\n",
       "       [ 0.11140976,  0.82190816],\n",
       "       [-0.34602598, -0.82640781],\n",
       "       [ 0.14162167,  0.9441078 ],\n",
       "       [ 0.68221223, -0.774971  ],\n",
       "       [-0.48738911,  0.31683265],\n",
       "       [ 0.21266255, -0.59610293],\n",
       "       [-0.66973088,  0.48014616],\n",
       "       [ 0.20799488,  0.25239462],\n",
       "       [-1.59384106, -1.50190016],\n",
       "       [ 0.62223372, -1.61132524],\n",
       "       [-0.40540671,  0.47930143],\n",
       "       [ 0.42558831,  0.82020341],\n",
       "       [ 0.42982986,  2.09483595],\n",
       "       [ 0.51052166,  0.37626606],\n",
       "       [ 0.79209605, -0.64236432],\n",
       "       [-1.04809753,  0.93475806],\n",
       "       [ 0.85429936, -0.00345292],\n",
       "       [ 0.33367767, -0.26155914],\n",
       "       [-0.31475762,  0.84523678],\n",
       "       [-0.17611776, -1.21553227],\n",
       "       [ 1.76748717, -0.13018931],\n",
       "       [-0.20143926, -0.814879  ],\n",
       "       [-0.34914397, -1.45381191],\n",
       "       [-0.4671171 , -0.76460948],\n",
       "       [-0.23213869,  0.88298588],\n",
       "       [ 1.97231102,  0.78363495],\n",
       "       [-1.03007481, -0.7589178 ],\n",
       "       [-0.54393629, -0.41676557],\n",
       "       [ 0.48501764,  0.38150568],\n",
       "       [-0.99124634,  1.1625462 ],\n",
       "       [-0.80777035, -0.01766404],\n",
       "       [ 1.19969703,  0.30167299],\n",
       "       [ 0.0852169 , -0.14702375],\n",
       "       [-0.93790624,  0.43414006],\n",
       "       [ 1.33156266, -1.33060823],\n",
       "       [ 0.74587894, -0.59154648],\n",
       "       [ 0.81269933,  0.18862982],\n",
       "       [ 1.23305716,  0.22736536],\n",
       "       [-1.03257423,  0.73948879],\n",
       "       [-0.84857648, -0.66292378],\n",
       "       [-0.53130838,  0.62582427],\n",
       "       [-1.51323872,  0.53165646],\n",
       "       [-1.04901935,  1.21766846],\n",
       "       [-1.09781979,  1.51951282],\n",
       "       [-0.16591111, -0.87300556],\n",
       "       [ 0.7977109 , -0.03083158],\n",
       "       [-1.7607626 ,  0.24508046],\n",
       "       [-1.50996578, -0.85112395],\n",
       "       [-0.99460347, -0.82167127],\n",
       "       [ 0.16999719, -1.16816475],\n",
       "       [ 0.3656204 ,  0.8214274 ],\n",
       "       [ 0.788555  , -0.75040688],\n",
       "       [ 0.04580318, -0.18323007],\n",
       "       [-0.83249008, -0.20861481],\n",
       "       [ 1.78142606, -0.01005674]])"
      ]
     },
     "execution_count": 12,
     "metadata": {},
     "output_type": "execute_result"
    }
   ],
   "source": [
    "X_train_pca_reduced"
   ]
  },
  {
   "cell_type": "code",
   "execution_count": 13,
   "id": "1d47e787",
   "metadata": {},
   "outputs": [
    {
     "data": {
      "text/plain": [
       "array([[-0.17117297, -1.22192711],\n",
       "       [ 0.4806528 ,  0.24801103],\n",
       "       [ 1.87068905,  0.12563623],\n",
       "       [-0.19551814, -0.94552398],\n",
       "       [-0.99487835,  1.63438161],\n",
       "       [ 1.14701828,  0.88795494],\n",
       "       [ 0.59892473, -0.48166294],\n",
       "       [ 0.75127942, -0.18675461],\n",
       "       [ 2.28508224, -0.79408129],\n",
       "       [ 0.92313685,  0.47727658],\n",
       "       [-1.06358404, -0.85619575],\n",
       "       [ 0.8916481 ,  0.69309986],\n",
       "       [ 1.49263233,  1.38460432],\n",
       "       [ 2.01349289,  0.44965648],\n",
       "       [ 0.66048754, -0.23644287],\n",
       "       [ 1.21269236,  1.03938404],\n",
       "       [-1.20193948,  0.08382522],\n",
       "       [ 0.03511168,  0.34806031],\n",
       "       [ 1.2478226 , -0.91696079],\n",
       "       [-1.7881791 ,  0.22514814],\n",
       "       [-0.20878203, -1.5108924 ],\n",
       "       [-0.81094084, -2.08625206],\n",
       "       [-1.08028515,  0.81194455],\n",
       "       [-0.67045752, -2.04826134],\n",
       "       [ 1.37701505, -1.83361892],\n",
       "       [-1.26427365, -1.60902629],\n",
       "       [ 0.97551776,  1.37079628],\n",
       "       [-0.75787757,  0.22891156],\n",
       "       [-0.0519254 ,  0.70042171],\n",
       "       [-0.75340612, -0.65052685]])"
      ]
     },
     "execution_count": 13,
     "metadata": {},
     "output_type": "execute_result"
    }
   ],
   "source": [
    "X_test_pca_reduced"
   ]
  },
  {
   "cell_type": "code",
   "execution_count": 14,
   "id": "f41ddfd3",
   "metadata": {},
   "outputs": [],
   "source": [
    "regressor = LinearRegression()\n",
    "regressor.fit(X_train_pca_reduced, y_train)\n",
    "y_pred = regressor.predict(X_test_pca_reduced)"
   ]
  },
  {
   "cell_type": "code",
   "execution_count": 15,
   "id": "8b143dc1",
   "metadata": {},
   "outputs": [
    {
     "name": "stdout",
     "output_type": "stream",
     "text": [
      "Mean Squared Error: 2.104020255709445\n"
     ]
    }
   ],
   "source": [
    "mse = mean_squared_error(y_test, y_pred)\n",
    "print(f'Mean Squared Error: {mse}')"
   ]
  },
  {
   "cell_type": "code",
   "execution_count": null,
   "id": "dd05b612",
   "metadata": {},
   "outputs": [],
   "source": []
  },
  {
   "cell_type": "code",
   "execution_count": 1,
   "id": "1d0a82de",
   "metadata": {},
   "outputs": [],
   "source": [
    "from sklearn.decomposition import PCA"
   ]
  },
  {
   "cell_type": "code",
   "execution_count": 2,
   "id": "e1bb6101",
   "metadata": {},
   "outputs": [],
   "source": [
    "data = [[3, 1, 1], [-1, 3, 1], [2, 2, 2], [4, 0, 0]]"
   ]
  },
  {
   "cell_type": "code",
   "execution_count": 3,
   "id": "81d45848",
   "metadata": {},
   "outputs": [
    {
     "data": {
      "text/html": [
       "<style>#sk-container-id-1 {color: black;}#sk-container-id-1 pre{padding: 0;}#sk-container-id-1 div.sk-toggleable {background-color: white;}#sk-container-id-1 label.sk-toggleable__label {cursor: pointer;display: block;width: 100%;margin-bottom: 0;padding: 0.3em;box-sizing: border-box;text-align: center;}#sk-container-id-1 label.sk-toggleable__label-arrow:before {content: \"▸\";float: left;margin-right: 0.25em;color: #696969;}#sk-container-id-1 label.sk-toggleable__label-arrow:hover:before {color: black;}#sk-container-id-1 div.sk-estimator:hover label.sk-toggleable__label-arrow:before {color: black;}#sk-container-id-1 div.sk-toggleable__content {max-height: 0;max-width: 0;overflow: hidden;text-align: left;background-color: #f0f8ff;}#sk-container-id-1 div.sk-toggleable__content pre {margin: 0.2em;color: black;border-radius: 0.25em;background-color: #f0f8ff;}#sk-container-id-1 input.sk-toggleable__control:checked~div.sk-toggleable__content {max-height: 200px;max-width: 100%;overflow: auto;}#sk-container-id-1 input.sk-toggleable__control:checked~label.sk-toggleable__label-arrow:before {content: \"▾\";}#sk-container-id-1 div.sk-estimator input.sk-toggleable__control:checked~label.sk-toggleable__label {background-color: #d4ebff;}#sk-container-id-1 div.sk-label input.sk-toggleable__control:checked~label.sk-toggleable__label {background-color: #d4ebff;}#sk-container-id-1 input.sk-hidden--visually {border: 0;clip: rect(1px 1px 1px 1px);clip: rect(1px, 1px, 1px, 1px);height: 1px;margin: -1px;overflow: hidden;padding: 0;position: absolute;width: 1px;}#sk-container-id-1 div.sk-estimator {font-family: monospace;background-color: #f0f8ff;border: 1px dotted black;border-radius: 0.25em;box-sizing: border-box;margin-bottom: 0.5em;}#sk-container-id-1 div.sk-estimator:hover {background-color: #d4ebff;}#sk-container-id-1 div.sk-parallel-item::after {content: \"\";width: 100%;border-bottom: 1px solid gray;flex-grow: 1;}#sk-container-id-1 div.sk-label:hover label.sk-toggleable__label {background-color: #d4ebff;}#sk-container-id-1 div.sk-serial::before {content: \"\";position: absolute;border-left: 1px solid gray;box-sizing: border-box;top: 0;bottom: 0;left: 50%;z-index: 0;}#sk-container-id-1 div.sk-serial {display: flex;flex-direction: column;align-items: center;background-color: white;padding-right: 0.2em;padding-left: 0.2em;position: relative;}#sk-container-id-1 div.sk-item {position: relative;z-index: 1;}#sk-container-id-1 div.sk-parallel {display: flex;align-items: stretch;justify-content: center;background-color: white;position: relative;}#sk-container-id-1 div.sk-item::before, #sk-container-id-1 div.sk-parallel-item::before {content: \"\";position: absolute;border-left: 1px solid gray;box-sizing: border-box;top: 0;bottom: 0;left: 50%;z-index: -1;}#sk-container-id-1 div.sk-parallel-item {display: flex;flex-direction: column;z-index: 1;position: relative;background-color: white;}#sk-container-id-1 div.sk-parallel-item:first-child::after {align-self: flex-end;width: 50%;}#sk-container-id-1 div.sk-parallel-item:last-child::after {align-self: flex-start;width: 50%;}#sk-container-id-1 div.sk-parallel-item:only-child::after {width: 0;}#sk-container-id-1 div.sk-dashed-wrapped {border: 1px dashed gray;margin: 0 0.4em 0.5em 0.4em;box-sizing: border-box;padding-bottom: 0.4em;background-color: white;}#sk-container-id-1 div.sk-label label {font-family: monospace;font-weight: bold;display: inline-block;line-height: 1.2em;}#sk-container-id-1 div.sk-label-container {text-align: center;}#sk-container-id-1 div.sk-container {/* jupyter's `normalize.less` sets `[hidden] { display: none; }` but bootstrap.min.css set `[hidden] { display: none !important; }` so we also need the `!important` here to be able to override the default hidden behavior on the sphinx rendered scikit-learn.org. See: https://github.com/scikit-learn/scikit-learn/issues/21755 */display: inline-block !important;position: relative;}#sk-container-id-1 div.sk-text-repr-fallback {display: none;}</style><div id=\"sk-container-id-1\" class=\"sk-top-container\"><div class=\"sk-text-repr-fallback\"><pre>PCA(n_components=3)</pre><b>In a Jupyter environment, please rerun this cell to show the HTML representation or trust the notebook. <br />On GitHub, the HTML representation is unable to render, please try loading this page with nbviewer.org.</b></div><div class=\"sk-container\" hidden><div class=\"sk-item\"><div class=\"sk-estimator sk-toggleable\"><input class=\"sk-toggleable__control sk-hidden--visually\" id=\"sk-estimator-id-1\" type=\"checkbox\" checked><label for=\"sk-estimator-id-1\" class=\"sk-toggleable__label sk-toggleable__label-arrow\">PCA</label><div class=\"sk-toggleable__content\"><pre>PCA(n_components=3)</pre></div></div></div></div></div>"
      ],
      "text/plain": [
       "PCA(n_components=3)"
      ]
     },
     "execution_count": 3,
     "metadata": {},
     "output_type": "execute_result"
    }
   ],
   "source": [
    "pca_auto = PCA(n_components=3, svd_solver='auto')\n",
    "pca_auto.fit(data)"
   ]
  },
  {
   "cell_type": "code",
   "execution_count": 4,
   "id": "6f9937f2",
   "metadata": {},
   "outputs": [
    {
     "data": {
      "text/html": [
       "<style>#sk-container-id-2 {color: black;}#sk-container-id-2 pre{padding: 0;}#sk-container-id-2 div.sk-toggleable {background-color: white;}#sk-container-id-2 label.sk-toggleable__label {cursor: pointer;display: block;width: 100%;margin-bottom: 0;padding: 0.3em;box-sizing: border-box;text-align: center;}#sk-container-id-2 label.sk-toggleable__label-arrow:before {content: \"▸\";float: left;margin-right: 0.25em;color: #696969;}#sk-container-id-2 label.sk-toggleable__label-arrow:hover:before {color: black;}#sk-container-id-2 div.sk-estimator:hover label.sk-toggleable__label-arrow:before {color: black;}#sk-container-id-2 div.sk-toggleable__content {max-height: 0;max-width: 0;overflow: hidden;text-align: left;background-color: #f0f8ff;}#sk-container-id-2 div.sk-toggleable__content pre {margin: 0.2em;color: black;border-radius: 0.25em;background-color: #f0f8ff;}#sk-container-id-2 input.sk-toggleable__control:checked~div.sk-toggleable__content {max-height: 200px;max-width: 100%;overflow: auto;}#sk-container-id-2 input.sk-toggleable__control:checked~label.sk-toggleable__label-arrow:before {content: \"▾\";}#sk-container-id-2 div.sk-estimator input.sk-toggleable__control:checked~label.sk-toggleable__label {background-color: #d4ebff;}#sk-container-id-2 div.sk-label input.sk-toggleable__control:checked~label.sk-toggleable__label {background-color: #d4ebff;}#sk-container-id-2 input.sk-hidden--visually {border: 0;clip: rect(1px 1px 1px 1px);clip: rect(1px, 1px, 1px, 1px);height: 1px;margin: -1px;overflow: hidden;padding: 0;position: absolute;width: 1px;}#sk-container-id-2 div.sk-estimator {font-family: monospace;background-color: #f0f8ff;border: 1px dotted black;border-radius: 0.25em;box-sizing: border-box;margin-bottom: 0.5em;}#sk-container-id-2 div.sk-estimator:hover {background-color: #d4ebff;}#sk-container-id-2 div.sk-parallel-item::after {content: \"\";width: 100%;border-bottom: 1px solid gray;flex-grow: 1;}#sk-container-id-2 div.sk-label:hover label.sk-toggleable__label {background-color: #d4ebff;}#sk-container-id-2 div.sk-serial::before {content: \"\";position: absolute;border-left: 1px solid gray;box-sizing: border-box;top: 0;bottom: 0;left: 50%;z-index: 0;}#sk-container-id-2 div.sk-serial {display: flex;flex-direction: column;align-items: center;background-color: white;padding-right: 0.2em;padding-left: 0.2em;position: relative;}#sk-container-id-2 div.sk-item {position: relative;z-index: 1;}#sk-container-id-2 div.sk-parallel {display: flex;align-items: stretch;justify-content: center;background-color: white;position: relative;}#sk-container-id-2 div.sk-item::before, #sk-container-id-2 div.sk-parallel-item::before {content: \"\";position: absolute;border-left: 1px solid gray;box-sizing: border-box;top: 0;bottom: 0;left: 50%;z-index: -1;}#sk-container-id-2 div.sk-parallel-item {display: flex;flex-direction: column;z-index: 1;position: relative;background-color: white;}#sk-container-id-2 div.sk-parallel-item:first-child::after {align-self: flex-end;width: 50%;}#sk-container-id-2 div.sk-parallel-item:last-child::after {align-self: flex-start;width: 50%;}#sk-container-id-2 div.sk-parallel-item:only-child::after {width: 0;}#sk-container-id-2 div.sk-dashed-wrapped {border: 1px dashed gray;margin: 0 0.4em 0.5em 0.4em;box-sizing: border-box;padding-bottom: 0.4em;background-color: white;}#sk-container-id-2 div.sk-label label {font-family: monospace;font-weight: bold;display: inline-block;line-height: 1.2em;}#sk-container-id-2 div.sk-label-container {text-align: center;}#sk-container-id-2 div.sk-container {/* jupyter's `normalize.less` sets `[hidden] { display: none; }` but bootstrap.min.css set `[hidden] { display: none !important; }` so we also need the `!important` here to be able to override the default hidden behavior on the sphinx rendered scikit-learn.org. See: https://github.com/scikit-learn/scikit-learn/issues/21755 */display: inline-block !important;position: relative;}#sk-container-id-2 div.sk-text-repr-fallback {display: none;}</style><div id=\"sk-container-id-2\" class=\"sk-top-container\"><div class=\"sk-text-repr-fallback\"><pre>PCA(n_components=3, svd_solver=&#x27;full&#x27;)</pre><b>In a Jupyter environment, please rerun this cell to show the HTML representation or trust the notebook. <br />On GitHub, the HTML representation is unable to render, please try loading this page with nbviewer.org.</b></div><div class=\"sk-container\" hidden><div class=\"sk-item\"><div class=\"sk-estimator sk-toggleable\"><input class=\"sk-toggleable__control sk-hidden--visually\" id=\"sk-estimator-id-2\" type=\"checkbox\" checked><label for=\"sk-estimator-id-2\" class=\"sk-toggleable__label sk-toggleable__label-arrow\">PCA</label><div class=\"sk-toggleable__content\"><pre>PCA(n_components=3, svd_solver=&#x27;full&#x27;)</pre></div></div></div></div></div>"
      ],
      "text/plain": [
       "PCA(n_components=3, svd_solver='full')"
      ]
     },
     "execution_count": 4,
     "metadata": {},
     "output_type": "execute_result"
    }
   ],
   "source": [
    "pca_full=PCA(n_components=3, svd_solver='full')\n",
    "pca_full.fit(data)"
   ]
  },
  {
   "cell_type": "code",
   "execution_count": 5,
   "id": "38aebb6a",
   "metadata": {},
   "outputs": [
    {
     "data": {
      "text/html": [
       "<style>#sk-container-id-3 {color: black;}#sk-container-id-3 pre{padding: 0;}#sk-container-id-3 div.sk-toggleable {background-color: white;}#sk-container-id-3 label.sk-toggleable__label {cursor: pointer;display: block;width: 100%;margin-bottom: 0;padding: 0.3em;box-sizing: border-box;text-align: center;}#sk-container-id-3 label.sk-toggleable__label-arrow:before {content: \"▸\";float: left;margin-right: 0.25em;color: #696969;}#sk-container-id-3 label.sk-toggleable__label-arrow:hover:before {color: black;}#sk-container-id-3 div.sk-estimator:hover label.sk-toggleable__label-arrow:before {color: black;}#sk-container-id-3 div.sk-toggleable__content {max-height: 0;max-width: 0;overflow: hidden;text-align: left;background-color: #f0f8ff;}#sk-container-id-3 div.sk-toggleable__content pre {margin: 0.2em;color: black;border-radius: 0.25em;background-color: #f0f8ff;}#sk-container-id-3 input.sk-toggleable__control:checked~div.sk-toggleable__content {max-height: 200px;max-width: 100%;overflow: auto;}#sk-container-id-3 input.sk-toggleable__control:checked~label.sk-toggleable__label-arrow:before {content: \"▾\";}#sk-container-id-3 div.sk-estimator input.sk-toggleable__control:checked~label.sk-toggleable__label {background-color: #d4ebff;}#sk-container-id-3 div.sk-label input.sk-toggleable__control:checked~label.sk-toggleable__label {background-color: #d4ebff;}#sk-container-id-3 input.sk-hidden--visually {border: 0;clip: rect(1px 1px 1px 1px);clip: rect(1px, 1px, 1px, 1px);height: 1px;margin: -1px;overflow: hidden;padding: 0;position: absolute;width: 1px;}#sk-container-id-3 div.sk-estimator {font-family: monospace;background-color: #f0f8ff;border: 1px dotted black;border-radius: 0.25em;box-sizing: border-box;margin-bottom: 0.5em;}#sk-container-id-3 div.sk-estimator:hover {background-color: #d4ebff;}#sk-container-id-3 div.sk-parallel-item::after {content: \"\";width: 100%;border-bottom: 1px solid gray;flex-grow: 1;}#sk-container-id-3 div.sk-label:hover label.sk-toggleable__label {background-color: #d4ebff;}#sk-container-id-3 div.sk-serial::before {content: \"\";position: absolute;border-left: 1px solid gray;box-sizing: border-box;top: 0;bottom: 0;left: 50%;z-index: 0;}#sk-container-id-3 div.sk-serial {display: flex;flex-direction: column;align-items: center;background-color: white;padding-right: 0.2em;padding-left: 0.2em;position: relative;}#sk-container-id-3 div.sk-item {position: relative;z-index: 1;}#sk-container-id-3 div.sk-parallel {display: flex;align-items: stretch;justify-content: center;background-color: white;position: relative;}#sk-container-id-3 div.sk-item::before, #sk-container-id-3 div.sk-parallel-item::before {content: \"\";position: absolute;border-left: 1px solid gray;box-sizing: border-box;top: 0;bottom: 0;left: 50%;z-index: -1;}#sk-container-id-3 div.sk-parallel-item {display: flex;flex-direction: column;z-index: 1;position: relative;background-color: white;}#sk-container-id-3 div.sk-parallel-item:first-child::after {align-self: flex-end;width: 50%;}#sk-container-id-3 div.sk-parallel-item:last-child::after {align-self: flex-start;width: 50%;}#sk-container-id-3 div.sk-parallel-item:only-child::after {width: 0;}#sk-container-id-3 div.sk-dashed-wrapped {border: 1px dashed gray;margin: 0 0.4em 0.5em 0.4em;box-sizing: border-box;padding-bottom: 0.4em;background-color: white;}#sk-container-id-3 div.sk-label label {font-family: monospace;font-weight: bold;display: inline-block;line-height: 1.2em;}#sk-container-id-3 div.sk-label-container {text-align: center;}#sk-container-id-3 div.sk-container {/* jupyter's `normalize.less` sets `[hidden] { display: none; }` but bootstrap.min.css set `[hidden] { display: none !important; }` so we also need the `!important` here to be able to override the default hidden behavior on the sphinx rendered scikit-learn.org. See: https://github.com/scikit-learn/scikit-learn/issues/21755 */display: inline-block !important;position: relative;}#sk-container-id-3 div.sk-text-repr-fallback {display: none;}</style><div id=\"sk-container-id-3\" class=\"sk-top-container\"><div class=\"sk-text-repr-fallback\"><pre>PCA(n_components=3, svd_solver=&#x27;randomized&#x27;)</pre><b>In a Jupyter environment, please rerun this cell to show the HTML representation or trust the notebook. <br />On GitHub, the HTML representation is unable to render, please try loading this page with nbviewer.org.</b></div><div class=\"sk-container\" hidden><div class=\"sk-item\"><div class=\"sk-estimator sk-toggleable\"><input class=\"sk-toggleable__control sk-hidden--visually\" id=\"sk-estimator-id-3\" type=\"checkbox\" checked><label for=\"sk-estimator-id-3\" class=\"sk-toggleable__label sk-toggleable__label-arrow\">PCA</label><div class=\"sk-toggleable__content\"><pre>PCA(n_components=3, svd_solver=&#x27;randomized&#x27;)</pre></div></div></div></div></div>"
      ],
      "text/plain": [
       "PCA(n_components=3, svd_solver='randomized')"
      ]
     },
     "execution_count": 5,
     "metadata": {},
     "output_type": "execute_result"
    }
   ],
   "source": [
    "pca_randomized=PCA(n_components=3, svd_solver='randomized')\n",
    "pca_randomized.fit(data)"
   ]
  },
  {
   "cell_type": "code",
   "execution_count": 6,
   "id": "e77efa5d",
   "metadata": {},
   "outputs": [
    {
     "name": "stdout",
     "output_type": "stream",
     "text": [
      "Auto Solver Components:\n",
      "[[-0.84929533  0.50369186  0.1580884 ]\n",
      " [ 0.33470998  0.28218405  0.89907808]\n",
      " [-0.40824829 -0.81649658  0.40824829]]\n"
     ]
    }
   ],
   "source": [
    "print(\"Auto Solver Components:\")\n",
    "print(pca_auto.components_)"
   ]
  },
  {
   "cell_type": "code",
   "execution_count": 7,
   "id": "e7d5fc15",
   "metadata": {},
   "outputs": [
    {
     "name": "stdout",
     "output_type": "stream",
     "text": [
      "Full Solver Components:\n",
      "[[-0.84929533  0.50369186  0.1580884 ]\n",
      " [ 0.33470998  0.28218405  0.89907808]\n",
      " [-0.40824829 -0.81649658  0.40824829]]\n"
     ]
    }
   ],
   "source": [
    "print(\"Full Solver Components:\")\n",
    "print(pca_full.components_)"
   ]
  },
  {
   "cell_type": "code",
   "execution_count": 8,
   "id": "90876fea",
   "metadata": {},
   "outputs": [
    {
     "name": "stdout",
     "output_type": "stream",
     "text": [
      "Randomized Solver Components:\n",
      "[[-0.84929533  0.50369186  0.1580884 ]\n",
      " [ 0.33470998  0.28218405  0.89907808]\n",
      " [-0.40824829 -0.81649658  0.40824829]]\n"
     ]
    }
   ],
   "source": [
    "print(\"Randomized Solver Components:\")\n",
    "print(pca_randomized.components_)"
   ]
  },
  {
   "cell_type": "code",
   "execution_count": null,
   "id": "d46af649",
   "metadata": {},
   "outputs": [],
   "source": []
  }
 ],
 "metadata": {
  "kernelspec": {
   "display_name": "Python 3 (ipykernel)",
   "language": "python",
   "name": "python3"
  },
  "language_info": {
   "codemirror_mode": {
    "name": "ipython",
    "version": 3
   },
   "file_extension": ".py",
   "mimetype": "text/x-python",
   "name": "python",
   "nbconvert_exporter": "python",
   "pygments_lexer": "ipython3",
   "version": "3.11.5"
  }
 },
 "nbformat": 4,
 "nbformat_minor": 5
}
