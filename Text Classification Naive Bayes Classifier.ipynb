{
 "cells": [
  {
   "cell_type": "code",
   "execution_count": 1,
   "id": "12327271",
   "metadata": {},
   "outputs": [],
   "source": [
    "import numpy as np\n",
    "import pandas as pd\n",
    "import matplotlib.pyplot as plt\n",
    "import seaborn as sb"
   ]
  },
  {
   "cell_type": "code",
   "execution_count": 2,
   "id": "a186dd5d",
   "metadata": {},
   "outputs": [],
   "source": [
    "from sklearn.datasets import fetch_20newsgroups"
   ]
  },
  {
   "cell_type": "code",
   "execution_count": 4,
   "id": "9d081c77",
   "metadata": {},
   "outputs": [],
   "source": [
    "train=fetch_20newsgroups(data_home='.',subset='train')\n",
    "test=fetch_20newsgroups(data_home='.',subset='test')"
   ]
  },
  {
   "cell_type": "code",
   "execution_count": 5,
   "id": "f2a78fbb",
   "metadata": {},
   "outputs": [
    {
     "data": {
      "text/plain": [
       "(dict_keys(['data', 'filenames', 'target_names', 'target', 'DESCR']),\n",
       " dict_keys(['data', 'filenames', 'target_names', 'target', 'DESCR']))"
      ]
     },
     "execution_count": 5,
     "metadata": {},
     "output_type": "execute_result"
    }
   ],
   "source": [
    "train.keys(),test.keys()"
   ]
  },
  {
   "cell_type": "code",
   "execution_count": 9,
   "id": "83bfb11c",
   "metadata": {},
   "outputs": [
    {
     "data": {
      "text/plain": [
       "'.\\\\20news_home\\\\20news-bydate-train\\\\rec.autos\\\\102994'"
      ]
     },
     "execution_count": 9,
     "metadata": {},
     "output_type": "execute_result"
    }
   ],
   "source": [
    "train['filenames'][0]"
   ]
  },
  {
   "cell_type": "code",
   "execution_count": 10,
   "id": "9fecadbe",
   "metadata": {},
   "outputs": [
    {
     "data": {
      "text/plain": [
       "{0, 1, 2, 3, 4, 5, 6, 7, 8, 9, 10, 11, 12, 13, 14, 15, 16, 17, 18, 19}"
      ]
     },
     "execution_count": 10,
     "metadata": {},
     "output_type": "execute_result"
    }
   ],
   "source": [
    "set(train['target'])"
   ]
  },
  {
   "cell_type": "code",
   "execution_count": 11,
   "id": "96a047e8",
   "metadata": {},
   "outputs": [
    {
     "name": "stdout",
     "output_type": "stream",
     "text": [
      "class 0=alt.atheism\n",
      "class 1=comp.graphics\n",
      "class 2=comp.os.ms-windows.misc\n",
      "class 3=comp.sys.ibm.pc.hardware\n",
      "class 4=comp.sys.mac.hardware\n",
      "class 5=comp.windows.x\n",
      "class 6=misc.forsale\n",
      "class 7=rec.autos\n",
      "class 8=rec.motorcycles\n",
      "class 9=rec.sport.baseball\n",
      "class10=rec.sport.hockey\n",
      "class11=sci.crypt\n",
      "class12=sci.electronics\n",
      "class13=sci.med\n",
      "class14=sci.space\n",
      "class15=soc.religion.christian\n",
      "class16=talk.politics.guns\n",
      "class17=talk.politics.mideast\n",
      "class18=talk.politics.misc\n",
      "class19=talk.religion.misc\n"
     ]
    }
   ],
   "source": [
    "for i, label in enumerate (train['target_names']):\n",
    "    print(f'class{i:2d}={label}')"
   ]
  },
  {
   "cell_type": "code",
   "execution_count": 12,
   "id": "2333142e",
   "metadata": {},
   "outputs": [
    {
     "name": "stdout",
     "output_type": "stream",
     "text": [
      "Class number=1\n",
      "Class name=comp.graphics\n",
      "From: kph2q@onyx.cs.Virginia.EDU (Kenneth Hinckley)\n",
      "Subject:   VOICE INPUT -- vendor information needed\n",
      "Reply-To: kph2q@onyx.cs.Virginia.EDU (Kenneth Hinckley)\n",
      "Organization: University of Virginia\n",
      "Lines: 27\n",
      "\n",
      "\n",
      "Hello,\n",
      "     I am looking to add voice input capability to a user interface I am\n",
      "developing on an HP730 (UNIX) workstation.  I would greatly appreciate \n",
      "information anyone would care to offer about voice input systems that are \n",
      "easily accessible from the UNIX environment. \n",
      "\n",
      "     The names or adresses of applicable vendors, as well as any \n",
      "experiences you have had with specific systems, would be very helpful.\n",
      "\n",
      "     Please respond via email; I will post a summary if there is \n",
      "sufficient interest.\n",
      "\n",
      "\n",
      "Thanks,\n",
      "Ken\n",
      "\n",
      "\n",
      "P.S.  I have found several impressive systems for IBM PC's, but I would \n",
      "like to avoid the hassle of purchasing and maintaining a separate PC if \n",
      "at all possible.\n",
      "\n",
      "-------------------------------------------------------------------------------\n",
      "Ken Hinckley (kph2q@virginia.edu)\n",
      "University of Virginia \n",
      "Neurosurgical Visualization Laboratory\n",
      "-------------------------------------------------------------------------------\n",
      "\n"
     ]
    }
   ],
   "source": [
    "item_num=25\n",
    "class_num=train['target'][item_num]\n",
    "print(f'Class number={class_num}')\n",
    "print(f'Class name={train[\"target_names\"][class_num]}')\n",
    "print(train['data'][item_num])"
   ]
  },
  {
   "cell_type": "code",
   "execution_count": 13,
   "id": "be579c63",
   "metadata": {},
   "outputs": [],
   "source": [
    "from sklearn.feature_extraction.text import CountVectorizer\n",
    "from sklearn.naive_bayes import MultinomialNB"
   ]
  },
  {
   "cell_type": "code",
   "execution_count": 14,
   "id": "4ee71503",
   "metadata": {},
   "outputs": [],
   "source": [
    "cv=CountVectorizer(stop_words='english')\n",
    "train_dtm=cv.fit_transform(train['data'])\n",
    "test_dtm=cv.transform(test['data'])\n",
    "\n",
    "nb=MultinomialNB()\n",
    "nb=nb.fit(train_dtm,train['target'])"
   ]
  },
  {
   "cell_type": "code",
   "execution_count": 15,
   "id": "e6e931d8",
   "metadata": {},
   "outputs": [
    {
     "name": "stdout",
     "output_type": "stream",
     "text": [
      "Accuracy of Naive Bayes:\n",
      "80.23101433882103\n"
     ]
    }
   ],
   "source": [
    "predicted=nb.predict(test_dtm)\n",
    "score=nb.score(test_dtm,test['target'])\n",
    "print('Accuracy of Naive Bayes:')\n",
    "print(score*100.0)"
   ]
  },
  {
   "cell_type": "code",
   "execution_count": null,
   "id": "aa7dd457",
   "metadata": {},
   "outputs": [],
   "source": []
  }
 ],
 "metadata": {
  "kernelspec": {
   "display_name": "Python 3 (ipykernel)",
   "language": "python",
   "name": "python3"
  },
  "language_info": {
   "codemirror_mode": {
    "name": "ipython",
    "version": 3
   },
   "file_extension": ".py",
   "mimetype": "text/x-python",
   "name": "python",
   "nbconvert_exporter": "python",
   "pygments_lexer": "ipython3",
   "version": "3.11.5"
  }
 },
 "nbformat": 4,
 "nbformat_minor": 5
}
