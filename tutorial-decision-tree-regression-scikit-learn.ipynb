{
 "cells": [
  {
   "cell_type": "markdown",
   "metadata": {},
   "source": [
    "# **Tutorial Decision Tree Regression - Scikit Learn**"
   ]
  },
  {
   "cell_type": "markdown",
   "metadata": {},
   "source": [
    "# **Data Preparation Stage**"
   ]
  },
  {
   "cell_type": "code",
   "execution_count": null,
   "metadata": {
    "execution": {
     "iopub.execute_input": "2023-03-14T14:04:55.672639Z",
     "iopub.status.busy": "2023-03-14T14:04:55.67215Z",
     "iopub.status.idle": "2023-03-14T14:04:56.032799Z",
     "shell.execute_reply": "2023-03-14T14:04:56.031357Z",
     "shell.execute_reply.started": "2023-03-14T14:04:55.672603Z"
    }
   },
   "outputs": [],
   "source": [
    "# import library\n",
    "import pandas as pd\n",
    "import numpy as np\n",
    "import matplotlib.pyplot as plt\n",
    "import seaborn as sns"
   ]
  },
  {
   "cell_type": "code",
   "execution_count": null,
   "metadata": {
    "execution": {
     "iopub.execute_input": "2023-03-14T13:04:28.0079Z",
     "iopub.status.busy": "2023-03-14T13:04:28.007487Z",
     "iopub.status.idle": "2023-03-14T13:04:28.418392Z",
     "shell.execute_reply": "2023-03-14T13:04:28.417301Z",
     "shell.execute_reply.started": "2023-03-14T13:04:28.007866Z"
    }
   },
   "outputs": [],
   "source": [
    "# read data\n",
    "df = pd.read_csv('https://github.com/YBIFoundation/Dataset/raw/main/Admission%20Chance.csv')\n",
    "df.head()"
   ]
  },
  {
   "cell_type": "code",
   "execution_count": null,
   "metadata": {
    "execution": {
     "iopub.execute_input": "2023-03-14T13:04:28.422201Z",
     "iopub.status.busy": "2023-03-14T13:04:28.420557Z",
     "iopub.status.idle": "2023-03-14T13:04:28.431709Z",
     "shell.execute_reply": "2023-03-14T13:04:28.430044Z",
     "shell.execute_reply.started": "2023-03-14T13:04:28.422142Z"
    }
   },
   "outputs": [],
   "source": [
    "# define target and features\n",
    "y = df['Chance of Admit ']\n",
    "X = df.drop(['Serial No','Chance of Admit '],axis=1)"
   ]
  },
  {
   "cell_type": "markdown",
   "metadata": {},
   "source": [
    "# **Model Selection Stage**"
   ]
  },
  {
   "cell_type": "code",
   "execution_count": null,
   "metadata": {
    "execution": {
     "iopub.execute_input": "2023-03-14T13:04:28.514624Z",
     "iopub.status.busy": "2023-03-14T13:04:28.513472Z",
     "iopub.status.idle": "2023-03-14T13:04:28.522671Z",
     "shell.execute_reply": "2023-03-14T13:04:28.520813Z",
     "shell.execute_reply.started": "2023-03-14T13:04:28.51458Z"
    }
   },
   "outputs": [],
   "source": [
    "# split into train and test sample\n",
    "from sklearn.model_selection import train_test_split\n",
    "X_train,X_test,y_train,y_test=train_test_split(X,y,train_size=0.8,random_state=2529)"
   ]
  },
  {
   "cell_type": "code",
   "execution_count": null,
   "metadata": {
    "execution": {
     "iopub.execute_input": "2023-03-14T14:03:19.317626Z",
     "iopub.status.busy": "2023-03-14T14:03:19.317104Z",
     "iopub.status.idle": "2023-03-14T14:03:19.324918Z",
     "shell.execute_reply": "2023-03-14T14:03:19.323327Z",
     "shell.execute_reply.started": "2023-03-14T14:03:19.317579Z"
    }
   },
   "outputs": [],
   "source": [
    "# select model\n",
    "from sklearn.tree import DecisionTreeRegressor,plot_tree\n",
    "dtr=DecisionTreeRegressor(max_depth=3, random_state=2529)"
   ]
  },
  {
   "cell_type": "code",
   "execution_count": null,
   "metadata": {
    "execution": {
     "iopub.execute_input": "2023-03-14T14:10:43.18741Z",
     "iopub.status.busy": "2023-03-14T14:10:43.186077Z",
     "iopub.status.idle": "2023-03-14T14:10:43.207053Z",
     "shell.execute_reply": "2023-03-14T14:10:43.205336Z",
     "shell.execute_reply.started": "2023-03-14T14:10:43.187329Z"
    }
   },
   "outputs": [],
   "source": [
    "# train model\n",
    "dtr.fit(X_train,y_train)"
   ]
  },
  {
   "cell_type": "code",
   "execution_count": null,
   "metadata": {
    "execution": {
     "iopub.execute_input": "2023-03-14T13:23:38.673964Z",
     "iopub.status.busy": "2023-03-14T13:23:38.67293Z",
     "iopub.status.idle": "2023-03-14T13:23:38.686125Z",
     "shell.execute_reply": "2023-03-14T13:23:38.684332Z",
     "shell.execute_reply.started": "2023-03-14T13:23:38.673903Z"
    }
   },
   "outputs": [],
   "source": [
    "# evaluate the model on training sample\n",
    "dtr.score(X_train,y_train)"
   ]
  },
  {
   "cell_type": "code",
   "execution_count": null,
   "metadata": {
    "execution": {
     "iopub.execute_input": "2023-03-14T13:23:39.092177Z",
     "iopub.status.busy": "2023-03-14T13:23:39.09173Z",
     "iopub.status.idle": "2023-03-14T13:23:39.133828Z",
     "shell.execute_reply": "2023-03-14T13:23:39.132275Z",
     "shell.execute_reply.started": "2023-03-14T13:23:39.092139Z"
    }
   },
   "outputs": [],
   "source": [
    "# cross validate model on train sample\n",
    "from sklearn.model_selection import cross_validate\n",
    "cross_validate(dtr, X_train, y_train, cv=5)"
   ]
  },
  {
   "cell_type": "code",
   "execution_count": null,
   "metadata": {
    "execution": {
     "iopub.execute_input": "2023-03-14T13:23:40.218271Z",
     "iopub.status.busy": "2023-03-14T13:23:40.217593Z",
     "iopub.status.idle": "2023-03-14T13:23:40.22843Z",
     "shell.execute_reply": "2023-03-14T13:23:40.227149Z",
     "shell.execute_reply.started": "2023-03-14T13:23:40.218208Z"
    }
   },
   "outputs": [],
   "source": [
    "# evaluate the model on the test sample\n",
    "dtr.score(X_test,y_test)"
   ]
  },
  {
   "cell_type": "markdown",
   "metadata": {},
   "source": [
    "# **Model Validation Stage**"
   ]
  },
  {
   "cell_type": "code",
   "execution_count": null,
   "metadata": {
    "execution": {
     "iopub.execute_input": "2023-03-14T13:57:52.322712Z",
     "iopub.status.busy": "2023-03-14T13:57:52.321445Z",
     "iopub.status.idle": "2023-03-14T13:57:52.333624Z",
     "shell.execute_reply": "2023-03-14T13:57:52.332045Z",
     "shell.execute_reply.started": "2023-03-14T13:57:52.322592Z"
    }
   },
   "outputs": [],
   "source": [
    "# model hyperparameters\n",
    "dtr.get_params()"
   ]
  },
  {
   "cell_type": "code",
   "execution_count": null,
   "metadata": {
    "execution": {
     "iopub.execute_input": "2023-03-14T13:57:59.689514Z",
     "iopub.status.busy": "2023-03-14T13:57:59.689032Z",
     "iopub.status.idle": "2023-03-14T13:57:59.69496Z",
     "shell.execute_reply": "2023-03-14T13:57:59.693955Z",
     "shell.execute_reply.started": "2023-03-14T13:57:59.689475Z"
    }
   },
   "outputs": [],
   "source": [
    "# hyperparameters selection\n",
    "params = {'model__max_depth' : [2,3,4,5,6,7,8, 9, 10],\n",
    "        'model__criterion' : ['squared_error', 'absolute_error'],\n",
    "        'model__random_state' : [2529]}"
   ]
  },
  {
   "cell_type": "code",
   "execution_count": null,
   "metadata": {
    "execution": {
     "iopub.execute_input": "2023-03-14T13:58:00.335104Z",
     "iopub.status.busy": "2023-03-14T13:58:00.332144Z",
     "iopub.status.idle": "2023-03-14T13:58:00.340042Z",
     "shell.execute_reply": "2023-03-14T13:58:00.338783Z",
     "shell.execute_reply.started": "2023-03-14T13:58:00.335029Z"
    }
   },
   "outputs": [],
   "source": [
    "# import pipeline\n",
    "from sklearn.pipeline import Pipeline"
   ]
  },
  {
   "cell_type": "code",
   "execution_count": null,
   "metadata": {
    "execution": {
     "iopub.execute_input": "2023-03-14T13:58:00.593091Z",
     "iopub.status.busy": "2023-03-14T13:58:00.592044Z",
     "iopub.status.idle": "2023-03-14T13:58:00.599639Z",
     "shell.execute_reply": "2023-03-14T13:58:00.597878Z",
     "shell.execute_reply.started": "2023-03-14T13:58:00.593036Z"
    }
   },
   "outputs": [],
   "source": [
    "# define pipe line\n",
    "pipe = Pipeline([('model', dtr)])"
   ]
  },
  {
   "cell_type": "code",
   "execution_count": null,
   "metadata": {
    "execution": {
     "iopub.execute_input": "2023-03-14T13:58:00.861118Z",
     "iopub.status.busy": "2023-03-14T13:58:00.860677Z",
     "iopub.status.idle": "2023-03-14T13:58:00.867461Z",
     "shell.execute_reply": "2023-03-14T13:58:00.865779Z",
     "shell.execute_reply.started": "2023-03-14T13:58:00.861084Z"
    }
   },
   "outputs": [],
   "source": [
    "# grid search cv\n",
    "from sklearn.model_selection import GridSearchCV\n",
    "grid = GridSearchCV(pipe,params,cv=5)"
   ]
  },
  {
   "cell_type": "code",
   "execution_count": null,
   "metadata": {
    "execution": {
     "iopub.execute_input": "2023-03-14T13:58:01.999037Z",
     "iopub.status.busy": "2023-03-14T13:58:01.997594Z",
     "iopub.status.idle": "2023-03-14T13:58:02.009475Z",
     "shell.execute_reply": "2023-03-14T13:58:02.008433Z",
     "shell.execute_reply.started": "2023-03-14T13:58:01.998962Z"
    }
   },
   "outputs": [],
   "source": [
    "grid"
   ]
  },
  {
   "cell_type": "code",
   "execution_count": null,
   "metadata": {
    "execution": {
     "iopub.execute_input": "2023-03-14T13:58:08.63426Z",
     "iopub.status.busy": "2023-03-14T13:58:08.633351Z",
     "iopub.status.idle": "2023-03-14T13:58:09.336108Z",
     "shell.execute_reply": "2023-03-14T13:58:09.334376Z",
     "shell.execute_reply.started": "2023-03-14T13:58:08.634179Z"
    }
   },
   "outputs": [],
   "source": [
    "# train grid search\n",
    "grid.fit(X_train,y_train)"
   ]
  },
  {
   "cell_type": "code",
   "execution_count": null,
   "metadata": {
    "execution": {
     "iopub.execute_input": "2023-03-14T13:58:16.353467Z",
     "iopub.status.busy": "2023-03-14T13:58:16.35298Z",
     "iopub.status.idle": "2023-03-14T13:58:16.362145Z",
     "shell.execute_reply": "2023-03-14T13:58:16.360328Z",
     "shell.execute_reply.started": "2023-03-14T13:58:16.353429Z"
    }
   },
   "outputs": [],
   "source": [
    "# find best parama\n",
    "grid.best_params_"
   ]
  },
  {
   "cell_type": "code",
   "execution_count": null,
   "metadata": {
    "execution": {
     "iopub.execute_input": "2023-03-14T13:58:19.572931Z",
     "iopub.status.busy": "2023-03-14T13:58:19.572497Z",
     "iopub.status.idle": "2023-03-14T13:58:19.579299Z",
     "shell.execute_reply": "2023-03-14T13:58:19.577827Z",
     "shell.execute_reply.started": "2023-03-14T13:58:19.572896Z"
    }
   },
   "outputs": [],
   "source": [
    "# select best estimator\n",
    "best = grid.best_estimator_"
   ]
  },
  {
   "cell_type": "code",
   "execution_count": null,
   "metadata": {
    "execution": {
     "iopub.execute_input": "2023-03-14T13:58:25.19515Z",
     "iopub.status.busy": "2023-03-14T13:58:25.194686Z",
     "iopub.status.idle": "2023-03-14T13:58:25.208579Z",
     "shell.execute_reply": "2023-03-14T13:58:25.207275Z",
     "shell.execute_reply.started": "2023-03-14T13:58:25.195115Z"
    }
   },
   "outputs": [],
   "source": [
    "# fit best estimator\n",
    "best.fit(X_train,y_train)"
   ]
  },
  {
   "cell_type": "code",
   "execution_count": null,
   "metadata": {
    "execution": {
     "iopub.execute_input": "2023-03-14T13:58:29.279111Z",
     "iopub.status.busy": "2023-03-14T13:58:29.278684Z",
     "iopub.status.idle": "2023-03-14T13:58:29.288093Z",
     "shell.execute_reply": "2023-03-14T13:58:29.286825Z",
     "shell.execute_reply.started": "2023-03-14T13:58:29.279076Z"
    }
   },
   "outputs": [],
   "source": [
    "# predict with best estimator\n",
    "y_pred=best.predict(X_test)"
   ]
  },
  {
   "cell_type": "code",
   "execution_count": null,
   "metadata": {
    "execution": {
     "iopub.execute_input": "2023-03-14T13:58:34.992548Z",
     "iopub.status.busy": "2023-03-14T13:58:34.992028Z",
     "iopub.status.idle": "2023-03-14T13:58:34.999648Z",
     "shell.execute_reply": "2023-03-14T13:58:34.99792Z",
     "shell.execute_reply.started": "2023-03-14T13:58:34.9925Z"
    }
   },
   "outputs": [],
   "source": [
    "# model error\n",
    "from sklearn.metrics import mean_absolute_error, mean_absolute_percentage_error, r2_score"
   ]
  },
  {
   "cell_type": "code",
   "execution_count": null,
   "metadata": {
    "execution": {
     "iopub.execute_input": "2023-03-14T13:58:35.370598Z",
     "iopub.status.busy": "2023-03-14T13:58:35.370092Z",
     "iopub.status.idle": "2023-03-14T13:58:35.38083Z",
     "shell.execute_reply": "2023-03-14T13:58:35.379271Z",
     "shell.execute_reply.started": "2023-03-14T13:58:35.370558Z"
    }
   },
   "outputs": [],
   "source": [
    "# mean absolute error\n",
    "mean_absolute_error(y_test,y_pred)"
   ]
  },
  {
   "cell_type": "code",
   "execution_count": null,
   "metadata": {
    "execution": {
     "iopub.execute_input": "2023-03-14T13:58:35.663432Z",
     "iopub.status.busy": "2023-03-14T13:58:35.661902Z",
     "iopub.status.idle": "2023-03-14T13:58:35.673252Z",
     "shell.execute_reply": "2023-03-14T13:58:35.671706Z",
     "shell.execute_reply.started": "2023-03-14T13:58:35.663361Z"
    }
   },
   "outputs": [],
   "source": [
    "# mean absolute percentage error\n",
    "mean_absolute_percentage_error(y_test,y_pred)"
   ]
  },
  {
   "cell_type": "code",
   "execution_count": null,
   "metadata": {
    "execution": {
     "iopub.execute_input": "2023-03-14T13:58:35.995384Z",
     "iopub.status.busy": "2023-03-14T13:58:35.994205Z",
     "iopub.status.idle": "2023-03-14T13:58:36.005374Z",
     "shell.execute_reply": "2023-03-14T13:58:36.003603Z",
     "shell.execute_reply.started": "2023-03-14T13:58:35.995313Z"
    }
   },
   "outputs": [],
   "source": [
    "# r square\n",
    "r2_score(y_test,y_pred)"
   ]
  },
  {
   "cell_type": "code",
   "execution_count": null,
   "metadata": {
    "execution": {
     "iopub.execute_input": "2023-03-14T14:12:57.406344Z",
     "iopub.status.busy": "2023-03-14T14:12:57.405891Z",
     "iopub.status.idle": "2023-03-14T14:12:58.523906Z",
     "shell.execute_reply": "2023-03-14T14:12:58.522011Z",
     "shell.execute_reply.started": "2023-03-14T14:12:57.406307Z"
    }
   },
   "outputs": [],
   "source": [
    "# plot tree\n",
    "fig,ax = plt.subplots(figsize=(15,10))\n",
    "final=DecisionTreeRegressor(max_depth=3, random_state=2529)\n",
    "final.fit(X_train,y_train)\n",
    "plot_tree(final,feature_names=X.columns,filled=True);"
   ]
  },
  {
   "cell_type": "markdown",
   "metadata": {},
   "source": [
    "# **Save Model**"
   ]
  },
  {
   "cell_type": "code",
   "execution_count": null,
   "metadata": {
    "execution": {
     "iopub.execute_input": "2023-03-14T13:58:37.80322Z",
     "iopub.status.busy": "2023-03-14T13:58:37.802752Z",
     "iopub.status.idle": "2023-03-14T13:58:37.809967Z",
     "shell.execute_reply": "2023-03-14T13:58:37.807995Z",
     "shell.execute_reply.started": "2023-03-14T13:58:37.803182Z"
    }
   },
   "outputs": [],
   "source": [
    "# save model\n",
    "import pickle"
   ]
  },
  {
   "cell_type": "code",
   "execution_count": null,
   "metadata": {
    "execution": {
     "iopub.execute_input": "2023-03-14T13:58:38.144175Z",
     "iopub.status.busy": "2023-03-14T13:58:38.143625Z",
     "iopub.status.idle": "2023-03-14T13:58:38.151189Z",
     "shell.execute_reply": "2023-03-14T13:58:38.149486Z",
     "shell.execute_reply.started": "2023-03-14T13:58:38.144137Z"
    }
   },
   "outputs": [],
   "source": [
    "# create an iterator object with write permission - model.pickle\n",
    "with open('dtr_pkl', 'wb') as files:\n",
    "    pickle.dump(best, files)"
   ]
  },
  {
   "cell_type": "code",
   "execution_count": null,
   "metadata": {
    "execution": {
     "iopub.execute_input": "2023-03-14T13:58:38.629491Z",
     "iopub.status.busy": "2023-03-14T13:58:38.629008Z",
     "iopub.status.idle": "2023-03-14T13:58:38.638471Z",
     "shell.execute_reply": "2023-03-14T13:58:38.636598Z",
     "shell.execute_reply.started": "2023-03-14T13:58:38.629452Z"
    }
   },
   "outputs": [],
   "source": [
    "# load saved model\n",
    "with open('dtr_pkl' , 'rb') as f:\n",
    "    dtr2 = pickle.load(f)"
   ]
  },
  {
   "cell_type": "code",
   "execution_count": null,
   "metadata": {
    "execution": {
     "iopub.execute_input": "2023-03-14T13:58:39.039568Z",
     "iopub.status.busy": "2023-03-14T13:58:39.038491Z",
     "iopub.status.idle": "2023-03-14T13:58:39.050598Z",
     "shell.execute_reply": "2023-03-14T13:58:39.049459Z",
     "shell.execute_reply.started": "2023-03-14T13:58:39.039518Z"
    }
   },
   "outputs": [],
   "source": [
    "# predict with saved model\n",
    "dtr2.predict(X_test)"
   ]
  }
 ],
 "metadata": {
  "kaggle": {
   "accelerator": "none",
   "dataSources": [],
   "dockerImageVersionId": 30407,
   "isGpuEnabled": false,
   "isInternetEnabled": true,
   "language": "python",
   "sourceType": "notebook"
  },
  "kernelspec": {
   "display_name": "Python 3 (ipykernel)",
   "language": "python",
   "name": "python3"
  },
  "language_info": {
   "codemirror_mode": {
    "name": "ipython",
    "version": 3
   },
   "file_extension": ".py",
   "mimetype": "text/x-python",
   "name": "python",
   "nbconvert_exporter": "python",
   "pygments_lexer": "ipython3",
   "version": "3.11.5"
  }
 },
 "nbformat": 4,
 "nbformat_minor": 4
}
